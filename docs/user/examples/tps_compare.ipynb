{
 "cells": [
  {
   "cell_type": "markdown",
   "metadata": {},
   "source": [
    "# Comparing Mephysto measurements to TPS DICOM dose exports\n",
    "\n",
    "PyMedPhys contains within it tools to read Mephysto files as well as tools to extract profiles out of DICOM dose files. This example combines these two features together to compare beam models from both the TPS and the independent check software to measurement.\n",
    "\n",
    "So that the exported doses can be directly compared the Mephysto profiles are normalised by absolute dose and output factors so that the profile units of both the DICOM files and the measurements both end up as Gy / 100 MU."
   ]
  },
  {
   "cell_type": "code",
   "execution_count": 12,
   "metadata": {},
   "outputs": [
    {
     "name": "stdout",
     "output_type": "stream",
     "text": [
      "The autoreload extension is already loaded. To reload it, use:\n",
      "  %reload_ext autoreload\n"
     ]
    }
   ],
   "source": [
    "from IPython.lib.deepreload import reload\n",
    "%load_ext autoreload\n",
    "%autoreload 2"
   ]
  },
  {
   "cell_type": "code",
   "execution_count": 13,
   "metadata": {},
   "outputs": [],
   "source": [
    "import re\n",
    "import operator\n",
    "from pathlib import Path\n",
    "\n",
    "import numpy as np\n",
    "import matplotlib.pyplot as plt\n",
    "import pandas as pd\n",
    "\n",
    "import pydicom\n",
    "\n",
    "from pymedphys_analysis.tpscompare import bulk_load_mephysto\n",
    "from pymedphys_dicom.dicom import depth_dose, profile"
   ]
  },
  {
   "cell_type": "markdown",
   "metadata": {},
   "source": [
    "## Defining the data directories\n",
    "\n",
    "The data for this example is stored in the following way: \n",
    "\n",
    "![](./img/file-tree.png)\n",
    "\n",
    "Of note is that there are two locations where there are DICOM dose files, `Beam Models/DoseCHECK` and `Beam Models/Monaco/DICOM dose exports`"
   ]
  },
  {
   "cell_type": "code",
   "execution_count": 3,
   "metadata": {},
   "outputs": [],
   "source": [
    "ROOT_DIR = Path(\"data/tpscompare\")\n",
    "\n",
    "BEAM_MODELS_DIR = ROOT_DIR.joinpath(\"Beam Models\")\n",
    "\n",
    "PLAN_FILEPATH = BEAM_MODELS_DIR.joinpath(\"plan.dcm\")\n",
    "MONACO_DICOM_DIR = BEAM_MODELS_DIR.joinpath(\"Monaco\")\n",
    "DOSECHECK_DICOM_DIR = BEAM_MODELS_DIR.joinpath(\"DoseCHECK\")\n",
    "\n",
    "MEASUREMENTS_DIR = ROOT_DIR.joinpath(\"Measurements\")\n",
    "\n",
    "RESULTS = ROOT_DIR.joinpath(\"Results\")"
   ]
  },
  {
   "cell_type": "code",
   "execution_count": 4,
   "metadata": {},
   "outputs": [
    {
     "data": {
      "text/plain": [
       "10x10 fields\n",
       "06MV       0.8120\n",
       "06MVFFF    0.8093\n",
       "Name: d10 @ 90 SSD, dtype: float64"
      ]
     },
     "execution_count": 4,
     "metadata": {},
     "output_type": "execute_result"
    }
   ],
   "source": [
    "calibrated_doses_table = pd.read_csv(MEASUREMENTS_DIR.joinpath('AbsoluteDose.csv'), index_col=0)\n",
    "calibrated_doses = calibrated_doses_table['d10 @ 90 SSD']\n",
    "calibrated_doses"
   ]
  },
  {
   "cell_type": "code",
   "execution_count": 5,
   "metadata": {},
   "outputs": [
    {
     "data": {
      "text/plain": [
       "06MV    0.2625\n",
       "Name: 10 x 10 Wedged/Open @ 90 SSD, 10 cm depth, dtype: float64"
      ]
     },
     "execution_count": 5,
     "metadata": {},
     "output_type": "execute_result"
    }
   ],
   "source": [
    "wedge_transmission_table = pd.read_csv(MEASUREMENTS_DIR.joinpath('WedgeTransmissionFactors.csv'), index_col=0)\n",
    "data_column_name = wedge_transmission_table.columns[0]\n",
    "wedge_transmissions = wedge_transmission_table[data_column_name]\n",
    "wedge_transmissions"
   ]
  },
  {
   "cell_type": "code",
   "execution_count": 6,
   "metadata": {},
   "outputs": [
    {
     "data": {
      "text/html": [
       "<div>\n",
       "<style scoped>\n",
       "    .dataframe tbody tr th:only-of-type {\n",
       "        vertical-align: middle;\n",
       "    }\n",
       "\n",
       "    .dataframe tbody tr th {\n",
       "        vertical-align: top;\n",
       "    }\n",
       "\n",
       "    .dataframe thead th {\n",
       "        text-align: right;\n",
       "    }\n",
       "</style>\n",
       "<table border=\"1\" class=\"dataframe\">\n",
       "  <thead>\n",
       "    <tr style=\"text-align: right;\">\n",
       "      <th></th>\n",
       "      <th>05x05 Open</th>\n",
       "      <th>05x05 Wedge</th>\n",
       "      <th>10x10 Open</th>\n",
       "    </tr>\n",
       "    <tr>\n",
       "      <th>10 cm depth @ 90 SSD</th>\n",
       "      <th></th>\n",
       "      <th></th>\n",
       "      <th></th>\n",
       "    </tr>\n",
       "  </thead>\n",
       "  <tbody>\n",
       "    <tr>\n",
       "      <th>06MV</th>\n",
       "      <td>0.906</td>\n",
       "      <td>0.889</td>\n",
       "      <td>1</td>\n",
       "    </tr>\n",
       "    <tr>\n",
       "      <th>06MVFFF</th>\n",
       "      <td>0.925</td>\n",
       "      <td>NaN</td>\n",
       "      <td>1</td>\n",
       "    </tr>\n",
       "  </tbody>\n",
       "</table>\n",
       "</div>"
      ],
      "text/plain": [
       "                      05x05 Open  05x05 Wedge  10x10 Open\n",
       "10 cm depth @ 90 SSD                                     \n",
       "06MV                       0.906        0.889           1\n",
       "06MVFFF                    0.925          NaN           1"
      ]
     },
     "execution_count": 6,
     "metadata": {},
     "output_type": "execute_result"
    }
   ],
   "source": [
    "output_factors = pd.read_csv(MEASUREMENTS_DIR.joinpath('OutputFactors.csv'), index_col=0)\n",
    "output_factors"
   ]
  },
  {
   "cell_type": "code",
   "execution_count": 7,
   "metadata": {},
   "outputs": [
    {
     "data": {
      "text/plain": [
       "[]"
      ]
     },
     "execution_count": 7,
     "metadata": {},
     "output_type": "execute_result"
    }
   ],
   "source": [
    "keys = [\n",
    "    path.stem\n",
    "    for path in MONACO_DOSE_DIR.glob('*.dcm')\n",
    "]\n",
    "\n",
    "keys"
   ]
  },
  {
   "cell_type": "code",
   "execution_count": 8,
   "metadata": {},
   "outputs": [],
   "source": [
    "regex_string = r'(\\d\\dMV(FFF)?) (\\d\\dx\\d\\d) ((\\bOpen\\b)|(\\bWedge\\b))'\n",
    "\n",
    "def get_energy_field_block(key):\n",
    "    match = re.match(regex_string, key)\n",
    "    return match.group(1), match.group(3), match.group(4)\n"
   ]
  },
  {
   "cell_type": "code",
   "execution_count": 9,
   "metadata": {},
   "outputs": [
    {
     "data": {
      "text/plain": [
       "{}"
      ]
     },
     "execution_count": 9,
     "metadata": {},
     "output_type": "execute_result"
    }
   ],
   "source": [
    "absolute_doses = {}\n",
    "\n",
    "for key in keys:\n",
    "    energy, field, block = get_energy_field_block(key)\n",
    "        \n",
    "    if block == 'Wedge':\n",
    "        wtf = wedge_transmissions[energy]\n",
    "    else:\n",
    "        wtf = 1\n",
    "        \n",
    "    output_factor = output_factors[f'{field} {block}'][energy]\n",
    "    calibrated_dose = calibrated_doses[energy]\n",
    "    \n",
    "    absolute_dose = calibrated_dose * output_factor * wtf\n",
    "    absolute_doses[key] = absolute_dose\n",
    "    \n",
    "\n",
    "absolute_doses"
   ]
  },
  {
   "cell_type": "code",
   "execution_count": 10,
   "metadata": {},
   "outputs": [],
   "source": [
    "getter = operator.itemgetter('displacement', 'dose')"
   ]
  },
  {
   "cell_type": "code",
   "execution_count": 11,
   "metadata": {},
   "outputs": [
    {
     "ename": "ValueError",
     "evalue": "The following keys were not provided within the `absolute_doses` variable:\n{'06MV 05x05 Open', '06MVFFF 05x05 Open', '06MV 05x05 Wedge', '06MV 10x10 Open'}",
     "output_type": "error",
     "traceback": [
      "\u001b[1;31m---------------------------------------------------------------------------\u001b[0m",
      "\u001b[1;31mValueError\u001b[0m                                Traceback (most recent call last)",
      "\u001b[1;32m<ipython-input-11-95753598a02e>\u001b[0m in \u001b[0;36m<module>\u001b[1;34m()\u001b[0m\n\u001b[0;32m      1\u001b[0m absolute_scans_per_field = bulk_load_mephysto(\n\u001b[1;32m----> 2\u001b[1;33m     MEASUREMENTS_DIR, r'(\\d\\dMV(FFF)? \\d\\dx\\d\\d ((\\bOpen\\b)|(\\bWedge\\b)))\\.mcc', absolute_doses, 100)\n\u001b[0m",
      "\u001b[1;32mc:\\users\\sbiggs\\git\\pymedphys\\packages\\pymedphys_analysis\\src\\pymedphys_analysis\\tpscompare\\bulkcompare.py\u001b[0m in \u001b[0;36mbulk_load_mephysto\u001b[1;34m(directory, regex, absolute_doses, normalisation_depth)\u001b[0m\n\u001b[0;32m     49\u001b[0m         \u001b[0mkeys_not_found\u001b[0m \u001b[1;33m=\u001b[0m \u001b[0mset\u001b[0m\u001b[1;33m(\u001b[0m\u001b[0mkeys\u001b[0m\u001b[1;33m)\u001b[0m \u001b[1;33m-\u001b[0m \u001b[0mset\u001b[0m\u001b[1;33m(\u001b[0m\u001b[0mabsolute_doses\u001b[0m\u001b[1;33m.\u001b[0m\u001b[0mkeys\u001b[0m\u001b[1;33m(\u001b[0m\u001b[1;33m)\u001b[0m\u001b[1;33m)\u001b[0m\u001b[1;33m\u001b[0m\u001b[0m\n\u001b[0;32m     50\u001b[0m         raise ValueError(\n\u001b[1;32m---> 51\u001b[1;33m             \u001b[1;34m\"The following keys were not provided within the \"\u001b[0m\u001b[1;33m\u001b[0m\u001b[0m\n\u001b[0m\u001b[0;32m     52\u001b[0m             f\"`absolute_doses` variable:\\n{keys_not_found}\")\n\u001b[0;32m     53\u001b[0m \u001b[1;33m\u001b[0m\u001b[0m\n",
      "\u001b[1;31mValueError\u001b[0m: The following keys were not provided within the `absolute_doses` variable:\n{'06MV 05x05 Open', '06MVFFF 05x05 Open', '06MV 05x05 Wedge', '06MV 10x10 Open'}"
     ]
    }
   ],
   "source": [
    "absolute_scans_per_field = bulk_load_mephysto(\n",
    "    MEASUREMENTS_DIR, r'(\\d\\dMV(FFF)? \\d\\dx\\d\\d ((\\bOpen\\b)|(\\bWedge\\b)))\\.mcc', absolute_doses, 100)"
   ]
  },
  {
   "cell_type": "code",
   "execution_count": null,
   "metadata": {},
   "outputs": [],
   "source": [
    "new_keys = list(absolute_scans_per_field.keys())\n",
    "new_keys"
   ]
  },
  {
   "cell_type": "code",
   "execution_count": null,
   "metadata": {},
   "outputs": [],
   "source": [
    "assert new_keys == keys"
   ]
  },
  {
   "cell_type": "code",
   "execution_count": null,
   "metadata": {},
   "outputs": [],
   "source": [
    "def load_dicom_files(directory, keys):\n",
    "    dicom_file_map = {\n",
    "        key: directory.joinpath(f'{key}.dcm')\n",
    "        for key in keys\n",
    "    }\n",
    "    \n",
    "    dicom_dataset_map = {\n",
    "        key: pydicom.read_file(str(dicom_file_map[key]), force=True)\n",
    "        for key in keys\n",
    "    }\n",
    "    \n",
    "    return dicom_dataset_map"
   ]
  },
  {
   "cell_type": "code",
   "execution_count": null,
   "metadata": {},
   "outputs": [],
   "source": [
    "monaco_dicom_dataset_map = load_dicom_files(MONACO_DOSE_DIR, keys)\n",
    "dosecheck_dicom_dataset_map = load_dicom_files(DOSECHECK_DICOM_DIR, keys)"
   ]
  },
  {
   "cell_type": "code",
   "execution_count": null,
   "metadata": {},
   "outputs": [],
   "source": [
    "dicom_plan = pydicom.read_file(str(MONACO_DICOM_DIR.joinpath('plan.dcm')), force=True)"
   ]
  },
  {
   "cell_type": "code",
   "execution_count": null,
   "metadata": {},
   "outputs": [],
   "source": [
    "def plot_one_axis(ax, displacement, meas_dose, model_dose):\n",
    "    diff = 100 * (model_dose - meas_dose) / meas_dose\n",
    "    \n",
    "    lines = []\n",
    "    \n",
    "    lines += ax.plot(displacement, meas_dose, label='Measured Dose')\n",
    "    lines += ax.plot(displacement, model_dose, label='Model Dose')\n",
    "    ax.set_ylabel('Dose (Gy / 100 MU)')\n",
    "    \n",
    "    x_bounds = [np.min(displacement), np.max(displacement)]\n",
    "    ax.set_xlim(x_bounds)\n",
    "\n",
    "    ax_twin = ax.twinx()\n",
    "\n",
    "    lines += ax_twin.plot(displacement, diff, color='C3', alpha=0.5, label=r'% Residuals [100 $\\times$ (Model - Meas) / Meas]')\n",
    "    ax_twin.plot(x_bounds, [0, 0], '--', color='C3', lw=0.5)\n",
    "    ax_twin.set_ylabel(r'% Dose difference [100 $\\times$ (Model - Meas) / Meas]')\n",
    "\n",
    "    labels = [l.get_label() for l in lines]\n",
    "    \n",
    "    ax.legend(lines, labels, loc='lower left')\n",
    "    \n",
    "    return ax_twin\n",
    "\n",
    "\n",
    "\n",
    "def plot_tps_meas_diff(displacement, meas_dose, internal_tps_dose, external_tps_dose):\n",
    "    fig, ax = plt.subplots(1, 2, figsize=(16,6), sharey=True)\n",
    "    ax[1].yaxis.set_tick_params(which='both', labelbottom=True)\n",
    "\n",
    "    ax_twin = list()\n",
    "    \n",
    "    ax_twin.append(plot_one_axis(ax[0], displacement, meas_dose, internal_tps_dose))\n",
    "    ax_twin.append(plot_one_axis(ax[1], displacement, meas_dose, external_tps_dose))\n",
    "    \n",
    "    ax_twin[1].get_shared_y_axes().join(ax_twin[1], ax_twin[0])\n",
    "    ax_twin[1].set_ylim([-5, 5])\n",
    "    plt.tight_layout()\n",
    "    plt.subplots_adjust(wspace=0.4, top=0.86)\n",
    "    \n",
    "    return fig, ax\n",
    "\n",
    "\n",
    "def plot_pdd_diff(key, dicom_plan):\n",
    "    depth, meas_dose = getter(absolute_scans_per_field[key]['depth_dose'])\n",
    "    internal_tps_dose = depth_dose(depth, monaco_dicom_dataset_map[key], dicom_plan) / 10\n",
    "    external_tps_dose = depth_dose(depth, dosecheck_dicom_dataset_map[key], dicom_plan) / 10\n",
    "\n",
    "    fig, ax = plot_tps_meas_diff(depth, meas_dose, internal_tps_dose, external_tps_dose)\n",
    "    fig.suptitle(f'Depth Dose Comparisons | {key}', fontsize=\"x-large\")\n",
    "    ax[0].set_title(\"Monaco\")\n",
    "    ax[1].set_title(\"DoseCHECK\")\n",
    "    \n",
    "\n",
    "for key in keys:\n",
    "    plot_pdd_diff(key, dicom_plan)\n",
    "    filename = RESULTS.joinpath(f'{key}_pdd.png')\n",
    "    plt.savefig(filename)\n",
    "    plt.show()"
   ]
  },
  {
   "cell_type": "code",
   "execution_count": null,
   "metadata": {},
   "outputs": [],
   "source": [
    "def plot_profile_diff(key, depth, direction):\n",
    "    displacement, meas_dose = getter(absolute_scans_per_field[key]['profiles'][depth][direction])\n",
    "    \n",
    "    internal_tps_dose = profile(displacement, depth, direction, monaco_dicom_dataset_map[key], dicom_plan) / 10\n",
    "    external_tps_dose = profile(displacement, depth, direction, dosecheck_dicom_dataset_map[key], dicom_plan) / 10\n",
    "\n",
    "    fig, ax = plot_tps_meas_diff(displacement, meas_dose, internal_tps_dose, external_tps_dose)\n",
    "    fig.suptitle(f'{direction.capitalize()} Profile Comparisons | {key} | Depth: {depth} mm', fontsize=\"x-large\")\n",
    "    ax[0].set_title(\"Monaco\")\n",
    "    ax[1].set_title(\"DoseCHECK\")\n",
    "    \n",
    "\n",
    "for key in keys:\n",
    "    depths = absolute_scans_per_field[key]['profiles'].keys()\n",
    "    for depth in depths:\n",
    "        for direction in ['inplane', 'crossplane']:\n",
    "            plot_profile_diff(key, depth, direction)\n",
    "            filename = RESULTS.joinpath(f'{key}_profile_{depth}mm_{direction}.png')\n",
    "            plt.savefig(filename)\n",
    "            plt.show()"
   ]
  }
 ],
 "metadata": {
  "kernelspec": {
   "display_name": "Python 3",
   "language": "python",
   "name": "python3"
  },
  "language_info": {
   "codemirror_mode": {
    "name": "ipython",
    "version": 3
   },
   "file_extension": ".py",
   "mimetype": "text/x-python",
   "name": "python",
   "nbconvert_exporter": "python",
   "pygments_lexer": "ipython3",
   "version": "3.7.0"
  }
 },
 "nbformat": 4,
 "nbformat_minor": 4
}
