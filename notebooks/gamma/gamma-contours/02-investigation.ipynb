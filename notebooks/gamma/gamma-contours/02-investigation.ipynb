{
 "cells": [
  {
   "cell_type": "code",
   "execution_count": null,
   "metadata": {},
   "outputs": [],
   "source": [
    "import sys\n",
    "import os\n",
    "from glob import glob\n",
    "\n",
    "import numpy as np\n",
    "import matplotlib.pyplot as plt\n",
    "\n",
    "import pydicom\n",
    "\n",
    "from pymedphys.gamma import gamma_shell, GammaInternalFixedOptions, calculate_min_dose_difference, convert_to_percent_pass"
   ]
  },
  {
   "cell_type": "code",
   "execution_count": null,
   "metadata": {},
   "outputs": [],
   "source": [
    "DATA_DIRECTORY = \"../../../tests/data/gamma/agnew_mcgarry_images\"\n",
    "glob(DATA_DIRECTORY)"
   ]
  },
  {
   "cell_type": "code",
   "execution_count": null,
   "metadata": {},
   "outputs": [],
   "source": [
    "REF_VMAT_1mm = os.path.abspath(os.path.join(\n",
    "    DATA_DIRECTORY, 'H&N_VMAT_Reference_1mmPx.dcm'))\n",
    "EVAL_VMAT_1mm = os.path.abspath(os.path.join(\n",
    "    DATA_DIRECTORY, 'H&N_VMAT_Evaluated_1mmPx.dcm'))"
   ]
  },
  {
   "cell_type": "code",
   "execution_count": null,
   "metadata": {},
   "outputs": [],
   "source": [
    "def load_dose_from_dicom(dcm):\n",
    "    pixels = dcm.pixel_array\n",
    "    dose = pixels * dcm.DoseGridScaling\n",
    "\n",
    "    return dose\n",
    "\n",
    "\n",
    "def load_yx_from_dicom(dcm):\n",
    "    resolution = np.array(\n",
    "        dcm.PixelSpacing).astype(float)\n",
    "    dx = resolution[0]\n",
    "    x = (\n",
    "        dcm.ImagePositionPatient[0] +\n",
    "        np.arange(0, dcm.Columns * dx, dx))\n",
    "\n",
    "    dy = resolution[1]\n",
    "    y = (\n",
    "        dcm.ImagePositionPatient[1] +\n",
    "        np.arange(0, dcm.Rows * dy, dy))\n",
    "\n",
    "    return y, x"
   ]
  },
  {
   "cell_type": "code",
   "execution_count": null,
   "metadata": {},
   "outputs": [],
   "source": [
    "dcm_ref = pydicom.read_file(REF_VMAT_1mm)\n",
    "dcm_eval = pydicom.read_file(EVAL_VMAT_1mm)\n",
    "\n",
    "coords_reference = load_yx_from_dicom(dcm_ref)\n",
    "dose_reference = load_dose_from_dicom(dcm_ref)\n",
    "\n",
    "coords_evaluation = load_yx_from_dicom(dcm_eval)\n",
    "dose_evaluation = load_dose_from_dicom(dcm_eval)"
   ]
  },
  {
   "cell_type": "code",
   "execution_count": null,
   "metadata": {},
   "outputs": [],
   "source": [
    "%%timeit\n",
    "\n",
    "dose_thresholds = 1\n",
    "distance_thresholds = 1\n",
    "\n",
    "gamma = gamma_shell(\n",
    "    coords_reference, dose_reference,\n",
    "    coords_evaluation, dose_evaluation,\n",
    "    dose_thresholds, distance_thresholds, \n",
    "    max_gamma=1.0001, skip_once_passed=True, quiet=True)"
   ]
  },
  {
   "cell_type": "code",
   "execution_count": null,
   "metadata": {},
   "outputs": [],
   "source": [
    "dose_thresholds = np.arange(1,3,0.1)\n",
    "distance_thresholds = np.arange(1,3,0.1)\n",
    "\n",
    "print(\"Num Gamma threshold combos = {}\".format(len(dose_thresholds) * len(distance_thresholds)))"
   ]
  },
  {
   "cell_type": "code",
   "execution_count": null,
   "metadata": {},
   "outputs": [],
   "source": [
    "%%timeit\n",
    "\n",
    "gamma = gamma_shell(\n",
    "    coords_reference, dose_reference,\n",
    "    coords_evaluation, dose_evaluation,\n",
    "    dose_thresholds, distance_thresholds, \n",
    "    max_gamma=1.0001, skip_once_passed=True, quiet=True)"
   ]
  },
  {
   "cell_type": "code",
   "execution_count": null,
   "metadata": {},
   "outputs": [],
   "source": [
    "9.76 / 0.745"
   ]
  },
  {
   "cell_type": "code",
   "execution_count": null,
   "metadata": {},
   "outputs": [],
   "source": [
    "pass_rates = []\n",
    "\n",
    "for key, value in gamma.items():\n",
    "    pass_rates.append(convert_to_percent_pass(value))\n",
    "    \n",
    "pass_rates = np.reshape(pass_rates, (len(dose_thresholds), len(distance_thresholds)))\n",
    "    \n",
    "plt.contourf(distance_thresholds, dose_thresholds, pass_rates, 100, vmin=90, vmax=100, cmap='coolwarm_r')\n",
    "\n",
    "plt.title('Gamma pass-rate space')\n",
    "plt.xlabel('Distance Threshold (mm)')\n",
    "plt.ylabel('Dose Threshold (%)')\n",
    "plt.colorbar(label='Gamma pass rate (gamma <= 1)')"
   ]
  }
 ],
 "metadata": {
  "kernelspec": {
   "display_name": "Python 3",
   "language": "python",
   "name": "python3"
  },
  "language_info": {
   "codemirror_mode": {
    "name": "ipython",
    "version": 3
   },
   "file_extension": ".py",
   "mimetype": "text/x-python",
   "name": "python",
   "nbconvert_exporter": "python",
   "pygments_lexer": "ipython3",
   "version": "3.7.1"
  }
 },
 "nbformat": 4,
 "nbformat_minor": 2
}
