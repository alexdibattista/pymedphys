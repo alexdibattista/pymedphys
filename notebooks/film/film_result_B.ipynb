{
 "cells": [
  {
   "cell_type": "code",
   "execution_count": null,
   "metadata": {},
   "outputs": [],
   "source": [
    "%load_ext autoreload\n",
    "%autoreload 2"
   ]
  },
  {
   "cell_type": "code",
   "execution_count": null,
   "metadata": {},
   "outputs": [],
   "source": [
    "from pathlib import Path\n",
    "\n",
    "import numpy as np\n",
    "import matplotlib.pyplot as plt\n",
    "\n",
    "import imageio\n",
    "\n",
    "from scipy.optimize import basinhopping\n",
    "from scipy.ndimage import median_filter\n",
    "from scipy.stats import linregress\n",
    "\n",
    "from pymedphys.film import (\n",
    "    calc_calibration_points, load_cal_scans, \n",
    "    create_dose_function, calc_net_od, create_axes)"
   ]
  },
  {
   "cell_type": "code",
   "execution_count": null,
   "metadata": {},
   "outputs": [],
   "source": [
    "data_dir = Path('../../packages/pymedphys_analysis/tests/film/data/spine_case/DatasetB')"
   ]
  },
  {
   "cell_type": "code",
   "execution_count": null,
   "metadata": {},
   "outputs": [],
   "source": [
    "calibration_alignments = {650.0: (-0.03693119837922606, -0.0947635537173132, -0.37783221426724356),\n",
    " 200.0: (-0.10040063983494804, -0.12169175795144278, 0.08348855748332341),\n",
    " 1250.0: (-0.3032988411889664, 0.03641656353978792, 0.18968972666517137),\n",
    " 1000.0: (0.26492510731092084, 0.14060820397579227, -2.7193448468631343),\n",
    " 400.0: (-0.08179282402379366, -0.0679576959847175, 0.3154216316864221),\n",
    " 800.0: (0.18816305442327136, 0.07207526506185861, -0.9586838845463561),\n",
    " 0.0: (-0.09484272563570335, 0.12621856065409, -0.7927960758287966),\n",
    " 550.0: (-0.21896673466613484, -0.3278034483394189, -2.275540688446474),\n",
    " 300.0: (-0.06648768945080456, -0.0075448105213691595, -0.4383480611779579),\n",
    " 1400.0: (0.21542726392752917, 0.2342317915525293, 0.031818297008679844),\n",
    " 700.0: (0.04596862036224883, -0.1862675492795798, -0.5631021348448653),\n",
    " 620.0: (0.045973899659790485, 0.008418383396753638, 0.056398167284774),\n",
    " 500.0: (0.0157791792147568, 0.14108835739889178, -0.7097770417159057),\n",
    " 900.0: (-0.1973165785177423, 0.06716167826823238, 0.09585676472845489),\n",
    " 600.0: (0.0655280798391002, 0.010254562005567824, -0.04182894414171261),\n",
    " 750.0: (-0.13149497704528673, 0.08891070049242197, 1.0078733699651568),\n",
    " 580.0: (0.09292906883636731, -0.18062150972708307, -0.3395879590451904),\n",
    " 1100.0: (-0.05951520624559155, -0.1508183573554567, 0.2423935149180743)}\n",
    "\n",
    "\n",
    "# alignments = None  # Uncomment this line to recalc the alignments (slow)"
   ]
  },
  {
   "cell_type": "code",
   "execution_count": null,
   "metadata": {},
   "outputs": [],
   "source": [
    "treatment_alignment = (-0.09021456658200089, -0.1541382806538466, -0.07098367045728018)\n",
    "\n",
    "# treatment_alignment = None  # Uncomment this line to recalc the alignment (slow)"
   ]
  }
 ],
 "metadata": {
  "kernelspec": {
   "display_name": "Python 3",
   "language": "python",
   "name": "python3"
  },
  "language_info": {
   "codemirror_mode": {
    "name": "ipython",
    "version": 3
   },
   "file_extension": ".py",
   "mimetype": "text/x-python",
   "name": "python",
   "nbconvert_exporter": "python",
   "pygments_lexer": "ipython3",
   "version": "3.7.3"
  }
 },
 "nbformat": 4,
 "nbformat_minor": 2
}
