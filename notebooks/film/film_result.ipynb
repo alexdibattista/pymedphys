{
 "cells": [
  {
   "cell_type": "code",
   "execution_count": null,
   "metadata": {},
   "outputs": [],
   "source": [
    "%load_ext autoreload\n",
    "%autoreload 2"
   ]
  },
  {
   "cell_type": "code",
   "execution_count": null,
   "metadata": {},
   "outputs": [],
   "source": [
    "from pathlib import Path\n",
    "\n",
    "import numpy as np\n",
    "import matplotlib.pyplot as plt\n",
    "\n",
    "import imageio\n",
    "\n",
    "from scipy.optimize import basinhopping\n",
    "\n",
    "from pymedphys.film import calc_calibration_points, load_cal_scans, create_dose_function, calc_net_od"
   ]
  },
  {
   "cell_type": "code",
   "execution_count": null,
   "metadata": {},
   "outputs": [],
   "source": [
    "data_dir = Path('../../packages/pymedphys_analysis/tests/film/data/spine_case/DatasetA')"
   ]
  },
  {
   "cell_type": "code",
   "execution_count": null,
   "metadata": {},
   "outputs": [],
   "source": [
    "prescans_dir = data_dir.joinpath('prescans/calibration')\n",
    "postscans_dir = data_dir.joinpath('postscans/calibration')"
   ]
  },
  {
   "cell_type": "code",
   "execution_count": null,
   "metadata": {},
   "outputs": [],
   "source": [
    "treatment_prescan = data_dir.joinpath('prescans/treatment.tif')\n",
    "treatment_postscan = data_dir.joinpath('postscans/treatment.tif')"
   ]
  },
  {
   "cell_type": "code",
   "execution_count": null,
   "metadata": {},
   "outputs": [],
   "source": [
    "prescans = load_cal_scans(prescans_dir)\n",
    "postscans = load_cal_scans(postscans_dir)"
   ]
  },
  {
   "cell_type": "code",
   "execution_count": null,
   "metadata": {},
   "outputs": [],
   "source": [
    "points = calc_calibration_points(prescans, postscans)"
   ]
  },
  {
   "cell_type": "code",
   "execution_count": null,
   "metadata": {},
   "outputs": [],
   "source": [
    "dose_cal = []\n",
    "net_od_cal = []\n",
    "\n",
    "for key, item in points.items():\n",
    "    net_od_cal.append(item)\n",
    "    dose_cal.append(key)"
   ]
  },
  {
   "cell_type": "code",
   "execution_count": null,
   "metadata": {},
   "outputs": [],
   "source": [
    "index = np.argsort(net_od_cal)\n",
    "dose_cal = np.array(dose_cal)[index]\n",
    "net_od_cal = np.array(net_od_cal)[index]"
   ]
  },
  {
   "cell_type": "code",
   "execution_count": null,
   "metadata": {},
   "outputs": [],
   "source": [
    "dose_function = create_dose_function(net_od_cal, dose_cal)"
   ]
  },
  {
   "cell_type": "code",
   "execution_count": null,
   "metadata": {},
   "outputs": [],
   "source": [
    "x = np.linspace(np.min(net_od_cal), np.max(net_od_cal))\n",
    "y = dose_function(x)\n",
    "\n",
    "plt.plot(net_od_cal, dose_cal, '.')\n",
    "plt.plot(x, y)"
   ]
  },
  {
   "cell_type": "code",
   "execution_count": null,
   "metadata": {},
   "outputs": [],
   "source": [
    "treatment_prescan = imageio.imread(treatment_prescan)\n",
    "treatment_postscan = imageio.imread(treatment_postscan)"
   ]
  },
  {
   "cell_type": "code",
   "execution_count": null,
   "metadata": {},
   "outputs": [],
   "source": [
    "treatment_net_od = calc_net_od(treatment_prescan, treatment_postscan)"
   ]
  },
  {
   "cell_type": "code",
   "execution_count": null,
   "metadata": {},
   "outputs": [],
   "source": [
    "treatment_dose = dose_function(treatment_net_od)"
   ]
  },
  {
   "cell_type": "code",
   "execution_count": null,
   "metadata": {},
   "outputs": [],
   "source": []
  }
 ],
 "metadata": {
  "kernelspec": {
   "display_name": "Python 3",
   "language": "python",
   "name": "python3"
  },
  "language_info": {
   "codemirror_mode": {
    "name": "ipython",
    "version": 3
   },
   "file_extension": ".py",
   "mimetype": "text/x-python",
   "name": "python",
   "nbconvert_exporter": "python",
   "pygments_lexer": "ipython3",
   "version": "3.7.3"
  }
 },
 "nbformat": 4,
 "nbformat_minor": 2
}
