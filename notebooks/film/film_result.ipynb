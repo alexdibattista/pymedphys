{
 "cells": [
  {
   "cell_type": "code",
   "execution_count": null,
   "metadata": {},
   "outputs": [],
   "source": [
    "from pathlib import Path\n",
    "\n",
    "import numpy as np\n",
    "import matplotlib.pyplot as plt\n",
    "\n",
    "import imageio\n",
    "\n",
    "from scipy.optimize import basinhopping\n",
    "\n",
    "from pymedphys.film import calc_calibration_points, load_cal_scans"
   ]
  },
  {
   "cell_type": "code",
   "execution_count": null,
   "metadata": {},
   "outputs": [],
   "source": [
    "data_dir = Path('../../packages/pymedphys_analysis/tests/film/data/spine_case/DatasetA')"
   ]
  },
  {
   "cell_type": "code",
   "execution_count": null,
   "metadata": {},
   "outputs": [],
   "source": [
    "prescans_dir = data_dir.joinpath('prescans/calibration')\n",
    "postscans_dir = data_dir.joinpath('postscans/calibration')"
   ]
  },
  {
   "cell_type": "code",
   "execution_count": null,
   "metadata": {},
   "outputs": [],
   "source": [
    "prescans = load_cal_scans(prescans_dir)\n",
    "postscans = load_cal_scans(postscans_dir)"
   ]
  },
  {
   "cell_type": "code",
   "execution_count": null,
   "metadata": {},
   "outputs": [],
   "source": [
    "points = calc_calibration_points(prescans, postscans)"
   ]
  },
  {
   "cell_type": "code",
   "execution_count": null,
   "metadata": {},
   "outputs": [],
   "source": [
    "dose_cal = []\n",
    "net_od_cal = []\n",
    "\n",
    "for key, item in points.items():\n",
    "    net_od_cal.append(item)\n",
    "    dose_cal.append(key)"
   ]
  },
  {
   "cell_type": "code",
   "execution_count": null,
   "metadata": {},
   "outputs": [],
   "source": [
    "index = np.argsort(net_od_cal)\n",
    "dose_cal = np.array(dose_cal)[index]\n",
    "net_od_cal = np.array(net_od_cal)[index]"
   ]
  },
  {
   "cell_type": "code",
   "execution_count": null,
   "metadata": {},
   "outputs": [],
   "source": [
    "dose_cal"
   ]
  },
  {
   "cell_type": "code",
   "execution_count": null,
   "metadata": {},
   "outputs": [],
   "source": [
    "net_od_cal"
   ]
  },
  {
   "cell_type": "code",
   "execution_count": null,
   "metadata": {},
   "outputs": [],
   "source": [
    "plt.plot(net_od_cal, dose_cal, '.')"
   ]
  },
  {
   "cell_type": "code",
   "execution_count": null,
   "metadata": {},
   "outputs": [],
   "source": [
    "def create_cal_fit(a, b, n):\n",
    "    def cal_fit(net_od):\n",
    "        return a * net_od + b * net_od**n\n",
    "    \n",
    "    return cal_fit\n",
    "    \n",
    "\n",
    "def create_to_minimise(net_od_cal, dose_cal):\n",
    "    def to_minimise(x):\n",
    "        a, b, n = x\n",
    "        \n",
    "        cal_fit = create_cal_fit(a, b, n)\n",
    "        return np.sum((cal_fit(net_od_cal) - dose_cal)**2)\n",
    "    \n",
    "    return to_minimise\n",
    "    \n",
    "\n",
    "to_minimise = create_to_minimise(net_od_cal, dose_cal)\n",
    "\n",
    "result = basinhopping(to_minimise, [np.max(dose_cal)/np.max(net_od_cal), 1, 1])\n",
    "\n",
    "cal_fit = create_cal_fit(*result.x)"
   ]
  },
  {
   "cell_type": "code",
   "execution_count": null,
   "metadata": {},
   "outputs": [],
   "source": [
    "x = np.linspace(np.min(net_od_cal), np.max(net_od_cal))\n",
    "y = cal_fit(x)\n",
    "\n",
    "plt.plot(net_od_cal, dose_cal, '.')\n",
    "plt.plot(x, y)"
   ]
  },
  {
   "cell_type": "code",
   "execution_count": null,
   "metadata": {},
   "outputs": [],
   "source": [
    "np.abs(cal_fit(net_od_cal) - dose_cal) < 35"
   ]
  },
  {
   "cell_type": "code",
   "execution_count": null,
   "metadata": {},
   "outputs": [],
   "source": [
    "cal_fit(net_od_cal)"
   ]
  }
 ],
 "metadata": {
  "kernelspec": {
   "display_name": "Python 3",
   "language": "python",
   "name": "python3"
  },
  "language_info": {
   "codemirror_mode": {
    "name": "ipython",
    "version": 3
   },
   "file_extension": ".py",
   "mimetype": "text/x-python",
   "name": "python",
   "nbconvert_exporter": "python",
   "pygments_lexer": "ipython3",
   "version": "3.7.3"
  }
 },
 "nbformat": 4,
 "nbformat_minor": 2
}
