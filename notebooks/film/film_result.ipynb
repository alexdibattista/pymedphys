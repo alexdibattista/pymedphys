{
 "cells": [
  {
   "cell_type": "code",
   "execution_count": null,
   "metadata": {},
   "outputs": [],
   "source": [
    "%load_ext autoreload\n",
    "%autoreload 2"
   ]
  },
  {
   "cell_type": "code",
   "execution_count": null,
   "metadata": {},
   "outputs": [],
   "source": [
    "from pathlib import Path\n",
    "\n",
    "import numpy as np\n",
    "import matplotlib.pyplot as plt\n",
    "\n",
    "import imageio\n",
    "\n",
    "from scipy.optimize import basinhopping\n",
    "\n",
    "from pymedphys.film import calc_calibration_points, load_cal_scans, create_dose_function, calc_net_od"
   ]
  },
  {
   "cell_type": "code",
   "execution_count": null,
   "metadata": {},
   "outputs": [],
   "source": [
    "data_dir = Path('../../packages/pymedphys_analysis/tests/film/data/spine_case/DatasetA')"
   ]
  },
  {
   "cell_type": "code",
   "execution_count": null,
   "metadata": {},
   "outputs": [],
   "source": [
    "prescans_dir = data_dir.joinpath('prescans/calibration')\n",
    "postscans_dir = data_dir.joinpath('postscans/calibration')"
   ]
  },
  {
   "cell_type": "code",
   "execution_count": null,
   "metadata": {},
   "outputs": [],
   "source": [
    "treatment_prescan = data_dir.joinpath('prescans/treatment.tif')\n",
    "treatment_postscan = data_dir.joinpath('postscans/treatment.tif')"
   ]
  },
  {
   "cell_type": "code",
   "execution_count": null,
   "metadata": {},
   "outputs": [],
   "source": [
    "prescans = load_cal_scans(prescans_dir)\n",
    "postscans = load_cal_scans(postscans_dir)"
   ]
  },
  {
   "cell_type": "code",
   "execution_count": null,
   "metadata": {},
   "outputs": [],
   "source": [
    "alignments = {650.0: (-0.2603466805472101, -0.05536224482995437, -0.07369560088369552),\n",
    " 200.0: (0.01989287473874566, 0.05653957204379942, 0.01958896784090862),\n",
    " 1250.0: (-0.030984185305909597, -0.013095484617055644, -0.7892509138699312),\n",
    " 1000.0: (0.014882233322958316, 0.047914479072576996, -0.4978947226999769),\n",
    " 400.0: (-0.10014108696626364, -0.0505205399216578, 0.35312224601205056),\n",
    " 800.0: (-0.36114295467922, -0.24265504603088778, -3.0572273897726703),\n",
    " 0.0: (0.059460648677009, 0.011342191873970335, 0.5105895559969915),\n",
    " 550.0: (0.12412455554436072, -0.06665129104699223, -1.804139263417845),\n",
    " 300.0: (-0.011790177683326901, -0.18416361576439752, -2.727632477227316),\n",
    " 1400.0: (-0.133020484721831, 0.21720646311583633, -1.774500274342223),\n",
    " 700.0: (0.012808244265859131, -0.09308716649676804, -0.3799893464300393),\n",
    " 620.0: (-0.23915761204525535, 0.06496677146286638, -0.1765544707738022),\n",
    " 500.0: (-0.2019659941820111, -0.2185103120976351, 1.3280398730215275),\n",
    " 900.0: (0.07055237770009783, 0.5036890077460608, 0.5275840400344339),\n",
    " 600.0: (0.08945839395271547, -0.01098711847707867, 0.8744853354710658),\n",
    " 750.0: (-0.0005724882445936516, -0.24266847067130143, -1.3064618106060368),\n",
    " 580.0: (0.08104532576324767, 0.1622561143167344, -0.7394495101711168),\n",
    " 1100.0: (-0.07894465096909696, 0.12901876195049808, -0.46155730418785496)}\n",
    "\n",
    "# alignments = None  # Uncomment this line to recalc the alignments (slow)"
   ]
  },
  {
   "cell_type": "code",
   "execution_count": null,
   "metadata": {},
   "outputs": [],
   "source": [
    "points, alignments = calc_calibration_points(prescans, postscans, alignments=alignments)\n",
    "# alignments"
   ]
  },
  {
   "cell_type": "code",
   "execution_count": null,
   "metadata": {},
   "outputs": [],
   "source": [
    "dose_cal = []\n",
    "net_od_cal = []\n",
    "\n",
    "for key, item in points.items():\n",
    "    net_od_cal.append(item)\n",
    "    dose_cal.append(key)"
   ]
  },
  {
   "cell_type": "code",
   "execution_count": null,
   "metadata": {},
   "outputs": [],
   "source": [
    "index = np.argsort(net_od_cal)\n",
    "dose_cal = np.array(dose_cal)[index]\n",
    "net_od_cal = np.array(net_od_cal)[index]"
   ]
  },
  {
   "cell_type": "code",
   "execution_count": null,
   "metadata": {},
   "outputs": [],
   "source": [
    "dose_function = create_dose_function(net_od_cal, dose_cal)"
   ]
  },
  {
   "cell_type": "code",
   "execution_count": null,
   "metadata": {},
   "outputs": [],
   "source": [
    "x = np.linspace(np.min(net_od_cal), np.max(net_od_cal))\n",
    "y = dose_function(x)\n",
    "\n",
    "plt.plot(net_od_cal, dose_cal, '.')\n",
    "plt.plot(x, y)"
   ]
  },
  {
   "cell_type": "code",
   "execution_count": null,
   "metadata": {},
   "outputs": [],
   "source": [
    "treatment_prescan = imageio.imread(treatment_prescan)\n",
    "treatment_postscan = imageio.imread(treatment_postscan)"
   ]
  },
  {
   "cell_type": "code",
   "execution_count": null,
   "metadata": {},
   "outputs": [],
   "source": [
    "treatment_alignment = None"
   ]
  },
  {
   "cell_type": "code",
   "execution_count": null,
   "metadata": {},
   "outputs": [],
   "source": [
    "treatment_net_od, treatment_alignment = calc_net_od(\n",
    "    treatment_prescan, treatment_postscan, alignment=treatment_alignment)\n",
    "treatment_alignment"
   ]
  },
  {
   "cell_type": "code",
   "execution_count": null,
   "metadata": {},
   "outputs": [],
   "source": [
    "treatment_dose = dose_function(treatment_net_od)"
   ]
  },
  {
   "cell_type": "code",
   "execution_count": null,
   "metadata": {},
   "outputs": [],
   "source": []
  }
 ],
 "metadata": {
  "kernelspec": {
   "display_name": "Python 3",
   "language": "python",
   "name": "python3"
  },
  "language_info": {
   "codemirror_mode": {
    "name": "ipython",
    "version": 3
   },
   "file_extension": ".py",
   "mimetype": "text/x-python",
   "name": "python",
   "nbconvert_exporter": "python",
   "pygments_lexer": "ipython3",
   "version": "3.7.3"
  }
 },
 "nbformat": 4,
 "nbformat_minor": 2
}
