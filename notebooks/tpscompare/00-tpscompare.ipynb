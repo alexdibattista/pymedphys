{
 "cells": [
  {
   "cell_type": "code",
   "execution_count": null,
   "metadata": {},
   "outputs": [],
   "source": [
    "%load_ext autoreload\n",
    "%autoreload 2"
   ]
  },
  {
   "cell_type": "code",
   "execution_count": null,
   "metadata": {},
   "outputs": [],
   "source": [
    "import re\n",
    "import operator\n",
    "from pathlib import Path\n",
    "\n",
    "import numpy as np\n",
    "import matplotlib.pyplot as plt\n",
    "import pandas as pd\n",
    "\n",
    "import pydicom\n",
    "\n",
    "from pymedphys_analysis.tpscompare import absolute_scans_from_mephysto\n",
    "from pymedphys.dicom import "
   ]
  },
  {
   "cell_type": "code",
   "execution_count": null,
   "metadata": {},
   "outputs": [],
   "source": [
    "DICOM_DIR = next(Path(r\"S:\\Physics\\Monaco\\Model vs Measurement Comparisons\\Beam Models\").glob(r\"External *\\DICOM Dose Exports\"))\n",
    "MEASUREMENTS_DIR = Path(r\"S:\\Physics\\Monaco\\Model vs Measurement Comparisons\\Measurements\\RCCC\\Photons\\With Flattening Filter\")"
   ]
  },
  {
   "cell_type": "code",
   "execution_count": null,
   "metadata": {},
   "outputs": [],
   "source": [
    "mephysto_files = list(MEASUREMENTS_DIR.glob('06MV * Open.mcc'))\n",
    "keys = [\n",
    "    re.match('06MV (\\d\\dx\\d\\d) Open.mcc', filepath.name).group(1)\n",
    "    for filepath in mephysto_files\n",
    "]\n",
    "\n",
    "mephysto_file_map = {\n",
    "    key: filepath for key, filepath in zip(keys, mephysto_files)\n",
    "}\n",
    "\n",
    "mephysto_file_map"
   ]
  },
  {
   "cell_type": "code",
   "execution_count": null,
   "metadata": {},
   "outputs": [],
   "source": [
    "dicom_file_map = {\n",
    "    key: DICOM_DIR.joinpath(f'06MV_{key}.dcm')\n",
    "    for key in keys\n",
    "}\n",
    "\n",
    "dicom_file_map"
   ]
  },
  {
   "cell_type": "code",
   "execution_count": null,
   "metadata": {},
   "outputs": [],
   "source": [
    "dicom_dataset_map = {\n",
    "    key: pydicom.read_file(str(dicom_file_map[key]), force=True)\n",
    "    for key in keys\n",
    "}"
   ]
  },
  {
   "cell_type": "code",
   "execution_count": null,
   "metadata": {},
   "outputs": [],
   "source": [
    "absolute_dose_table = pd.read_csv(MEASUREMENTS_DIR.joinpath('AbsoluteDose.csv'), index_col=0)\n",
    "absolute_dose = absolute_dose_table['d10 @ 90 SSD']['6 MV']\n",
    "absolute_dose"
   ]
  },
  {
   "cell_type": "code",
   "execution_count": null,
   "metadata": {},
   "outputs": [],
   "source": [
    "output_factors = pd.read_csv(MEASUREMENTS_DIR.joinpath('OutputFactors.csv'), index_col=0)\n",
    "output_factors"
   ]
  },
  {
   "cell_type": "code",
   "execution_count": null,
   "metadata": {},
   "outputs": [],
   "source": [
    "absolute_dose_per_field = {\n",
    "    key: output_factors[key]['6 MV'] * absolute_dose\n",
    "    for key in keys\n",
    "}\n",
    "\n",
    "absolute_dose_per_field"
   ]
  },
  {
   "cell_type": "code",
   "execution_count": null,
   "metadata": {},
   "outputs": [],
   "source": [
    "absolute_scans_per_field = {\n",
    "    key: absolute_scans_from_mephysto(\n",
    "        mephysto_file_map[key], \n",
    "        absolute_dose_per_field[key], 100)\n",
    "    for key in keys\n",
    "}\n",
    "\n",
    "# absolute_scans_per_field"
   ]
  },
  {
   "cell_type": "code",
   "execution_count": null,
   "metadata": {},
   "outputs": [],
   "source": [
    "getter = operator.itemgetter('displacement', 'dose')"
   ]
  },
  {
   "cell_type": "code",
   "execution_count": null,
   "metadata": {},
   "outputs": [],
   "source": [
    "for key in keys:\n",
    "    plt.plot(*getter(absolute_scans_per_field[key]['depth_dose']))"
   ]
  },
  {
   "cell_type": "code",
   "execution_count": null,
   "metadata": {},
   "outputs": [],
   "source": [
    "depths = absolute_scans_per_field['02x02']['profiles'].keys()\n",
    "for depth in depths:\n",
    "    plt.plot(*getter(absolute_scans_per_field['02x02']['profiles'][depth]['inplane']), label=f'Depth: {depth} mm')\n",
    "    \n",
    "plt.legend()"
   ]
  },
  {
   "cell_type": "code",
   "execution_count": null,
   "metadata": {},
   "outputs": [],
   "source": [
    "depths = absolute_scans_per_field['02x02']['profiles'].keys()\n",
    "for depth in depths:\n",
    "    plt.plot(*getter(absolute_scans_per_field['02x02']['profiles'][depth]['crossplane']), label=f'Depth: {depth} mm')\n",
    "    \n",
    "plt.legend()"
   ]
  }
 ],
 "metadata": {
  "kernelspec": {
   "display_name": "Python 3",
   "language": "python",
   "name": "python3"
  },
  "language_info": {
   "codemirror_mode": {
    "name": "ipython",
    "version": 3
   },
   "file_extension": ".py",
   "mimetype": "text/x-python",
   "name": "python",
   "nbconvert_exporter": "python",
   "pygments_lexer": "ipython3",
   "version": "3.7.0"
  }
 },
 "nbformat": 4,
 "nbformat_minor": 4
}
