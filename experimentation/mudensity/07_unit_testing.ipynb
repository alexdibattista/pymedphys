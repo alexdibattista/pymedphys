{
 "cells": [
  {
   "cell_type": "code",
   "execution_count": null,
   "metadata": {},
   "outputs": [],
   "source": [
    "import os\n",
    "\n",
    "import numpy as np\n",
    "import matplotlib.pyplot as plt\n",
    "\n",
    "from pymedphys.level1.mudensity import *\n",
    "\n",
    "from pymedphys.level1.mudensity import (\n",
    "    _determine_reference_grid_position, _determine_leaf_centres\n",
    ")"
   ]
  },
  {
   "cell_type": "code",
   "execution_count": null,
   "metadata": {},
   "outputs": [],
   "source": [
    "def single_mlc_pair(left_mlc, right_mlc, grid_resolution, time_steps=50):\n",
    "    leaf_pair_widths = [grid_resolution]\n",
    "    jaw = np.array([\n",
    "        [grid_resolution/2, grid_resolution/2],\n",
    "        [grid_resolution/2, grid_resolution/2]\n",
    "    ])\n",
    "    mlc = np.array([\n",
    "        [\n",
    "            [-left_mlc[0], right_mlc[0]],\n",
    "        ],\n",
    "        [\n",
    "            [-left_mlc[1], right_mlc[1]],\n",
    "        ]\n",
    "    ])\n",
    "\n",
    "    grid, mu_density = calc_single_control_point(\n",
    "        mlc, jaw, leaf_pair_widths=leaf_pair_widths,\n",
    "        grid_resolution=grid_resolution, time_steps=time_steps\n",
    "    )\n",
    "\n",
    "    return grid['mlc'], mu_density[0, :]"
   ]
  },
  {
   "cell_type": "code",
   "execution_count": null,
   "metadata": {},
   "outputs": [],
   "source": [
    "plt.plot(*single_mlc_pair((-1, -1), (2.7, 2.7), 1, time_steps=1000), '-o')"
   ]
  },
  {
   "cell_type": "code",
   "execution_count": null,
   "metadata": {},
   "outputs": [],
   "source": [
    "single_mlc_pair((-1, -1), (2.7, 2.7), 1, time_steps=1000)"
   ]
  }
 ],
 "metadata": {
  "kernelspec": {
   "display_name": "Python 3",
   "language": "python",
   "name": "python3"
  },
  "language_info": {
   "codemirror_mode": {
    "name": "ipython",
    "version": 3
   },
   "file_extension": ".py",
   "mimetype": "text/x-python",
   "name": "python",
   "nbconvert_exporter": "python",
   "pygments_lexer": "ipython3",
   "version": "3.6.6"
  }
 },
 "nbformat": 4,
 "nbformat_minor": 2
}
