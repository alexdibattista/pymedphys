{
 "cells": [
  {
   "cell_type": "code",
   "execution_count": null,
   "metadata": {},
   "outputs": [],
   "source": [
    "import os\n",
    "\n",
    "import numpy as np\n",
    "import matplotlib.pyplot as plt\n",
    "\n",
    "from pymedphys.level1.mudensity import *\n",
    "\n",
    "\n",
    "DATA_DIRECTORY = \"../../tests/data\"\n",
    "DELIVERY_DATA_FILEPATH = os.path.join(DATA_DIRECTORY, 'mu_density_example_arrays.npz')\n",
    "\n",
    "def test_regression(plot=False):\n",
    "    \"\"\"The results of MU Density calculation should not change\n",
    "    \"\"\"\n",
    "    regress_test_arrays = np.load(DELIVERY_DATA_FILEPATH)\n",
    "\n",
    "    mu = regress_test_arrays['mu']\n",
    "    mlc = regress_test_arrays['mlc']\n",
    "    jaw = regress_test_arrays['jaw']\n",
    "\n",
    "    cached_grid_xx, cached_grid_yy, cached_mu_density = regress_test_arrays['mu_density']\n",
    "\n",
    "    grid_xx, grid_yy, mu_density = calc_mu_density(mu, mlc, jaw)\n",
    "\n",
    "    assert np.all(grid_xx == cached_grid_xx)\n",
    "    assert np.all(grid_yy == cached_grid_yy)\n",
    "    assert np.allclose(mu_density, cached_mu_density)\n",
    "\n",
    "    if plot:\n",
    "        plt.pcolormesh(grid_xx, grid_yy, mu_density)\n",
    "        plt.colorbar()\n",
    "        plt.title('MU density')\n",
    "        plt.xlabel('MLC direction (mm)')\n",
    "        plt.ylabel('Jaw direction (mm)')\n",
    "        plt.gca().invert_yaxis()\n"
   ]
  },
  {
   "cell_type": "code",
   "execution_count": null,
   "metadata": {},
   "outputs": [],
   "source": [
    "test_regression(plot=True)"
   ]
  },
  {
   "cell_type": "code",
   "execution_count": null,
   "metadata": {},
   "outputs": [],
   "source": [
    "regress_test_arrays = np.load(DELIVERY_DATA_FILEPATH)"
   ]
  },
  {
   "cell_type": "code",
   "execution_count": null,
   "metadata": {},
   "outputs": [],
   "source": []
  },
  {
   "cell_type": "code",
   "execution_count": null,
   "metadata": {},
   "outputs": [],
   "source": [
    "mu"
   ]
  },
  {
   "cell_type": "code",
   "execution_count": null,
   "metadata": {},
   "outputs": [],
   "source": [
    "np.diff(mu)"
   ]
  },
  {
   "cell_type": "code",
   "execution_count": null,
   "metadata": {},
   "outputs": [],
   "source": [
    "mu = regress_test_arrays['mu']\n",
    "mlc = regress_test_arrays['mlc']\n",
    "jaw = regress_test_arrays['jaw']\n",
    "\n",
    "leaf_pair_widths = np.array(AGILITY_LEAF_PAIR_WIDTHS)\n",
    "max_leaf_gap=400\n",
    "grid_resolution=1\n",
    "\n",
    "mu, mlc, jaw = remove_irrelevant_control_points(mu, mlc, jaw)\n",
    "\n",
    "(\n",
    "    grid_xx, grid_yy, grid_leaf_map, mlc,\n",
    "    leaf_xx\n",
    ") = determine_calc_grid_and_adjustments(\n",
    "    mlc, jaw, leaf_pair_widths, grid_resolution)"
   ]
  },
  {
   "cell_type": "code",
   "execution_count": null,
   "metadata": {},
   "outputs": [],
   "source": []
  },
  {
   "cell_type": "code",
   "execution_count": null,
   "metadata": {},
   "outputs": [],
   "source": [
    "i = 3\n",
    "slice_to_check = slice(i, i + 2, 1)\n",
    "\n",
    "blocked_fraction = calc_blocked_fraction(\n",
    "    leaf_xx, mlc[slice_to_check, :, :], grid_leaf_map,\n",
    "    grid_yy, jaw[slice_to_check, :])\n",
    "\n",
    "mu_density = np.sum(\n",
    "    np.diff(mu[slice_to_check])[:, None, None] *\n",
    "    (1 - blocked_fraction), axis=0)\n",
    "\n",
    "plt.figure(figsize=(18,22))\n",
    "plt.pcolormesh(grid_xx, grid_yy, mu_density)\n",
    "plt.colorbar()\n",
    "plt.title('MU density')\n",
    "plt.xlabel('MLC direction (mm)')\n",
    "plt.ylabel('Jaw direction (mm)')\n",
    "plt.axis('equal')\n",
    "plt.gca().invert_yaxis()"
   ]
  },
  {
   "cell_type": "code",
   "execution_count": null,
   "metadata": {},
   "outputs": [],
   "source": []
  }
 ],
 "metadata": {
  "kernelspec": {
   "display_name": "Python 3",
   "language": "python",
   "name": "python3"
  },
  "language_info": {
   "codemirror_mode": {
    "name": "ipython",
    "version": 3
   },
   "file_extension": ".py",
   "mimetype": "text/x-python",
   "name": "python",
   "nbconvert_exporter": "python",
   "pygments_lexer": "ipython3",
   "version": "3.5.5"
  }
 },
 "nbformat": 4,
 "nbformat_minor": 2
}
