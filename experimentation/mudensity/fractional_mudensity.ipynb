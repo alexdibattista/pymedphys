{
 "cells": [
  {
   "cell_type": "code",
   "execution_count": null,
   "metadata": {},
   "outputs": [],
   "source": [
    "import os\n",
    "import json\n",
    "\n",
    "import numpy as np\n",
    "\n",
    "from decode_trf.decode_trf import delivery_data_from_logfile\n",
    "\n",
    "from pymedphys.level1.msqconnect import mosaiq_connect\n",
    "from pymedphys.level1.mudensity import calc_mu_density\n",
    "from pymedphys.level1.configutilities import get_index, get_data_directory, get_filepath\n",
    "from pymedphys.level2.msqdelivery import multi_fetch_and_verify_mosaiq\n",
    "\n",
    "from pymedphys.level4.comparebygantry import (\n",
    "    group_consecutive_logfiles, assert_array_agreement, get_gantry_tolerance,\n",
    "    get_logfile_delivery_data_bygantry, get_logfile_mu_density_bygantry,\n",
    "    get_mosaiq_delivery_data_bygantry, get_mosaiq_mu_density_bygantry,\n",
    "    get_comparison_results, get_mappings, get_comparisons_byfield\n",
    ")"
   ]
  },
  {
   "cell_type": "code",
   "execution_count": null,
   "metadata": {},
   "outputs": [],
   "source": [
    "with open('../logfiles/config.json') as config_file:\n",
    "    config = json.load(config_file)"
   ]
  },
  {
   "cell_type": "code",
   "execution_count": null,
   "metadata": {},
   "outputs": [],
   "source": [
    "index = get_index(config)\n",
    "filehash = '625da110476b8ecdeb5f3ec40bb841b210dfcd0d'\n",
    "index[filehash]"
   ]
  },
  {
   "cell_type": "code",
   "execution_count": null,
   "metadata": {},
   "outputs": [],
   "source": [
    "filepath = get_filepath(index, config, filehash)\n",
    "filepath"
   ]
  },
  {
   "cell_type": "code",
   "execution_count": null,
   "metadata": {},
   "outputs": [],
   "source": [
    "delivery_data = delivery_data_from_logfile(filepath)"
   ]
  },
  {
   "cell_type": "code",
   "execution_count": null,
   "metadata": {},
   "outputs": [],
   "source": [
    "%%timeit\n",
    "calc_mu_density(delivery_data.monitor_units, delivery_data.mlc, delivery_data.jaw, number_of_sections=500)"
   ]
  },
  {
   "cell_type": "code",
   "execution_count": null,
   "metadata": {},
   "outputs": [],
   "source": [
    "%%timeit\n",
    "calc_mu_density(delivery_data.monitor_units, delivery_data.mlc, delivery_data.jaw, number_of_sections=20)"
   ]
  },
  {
   "cell_type": "code",
   "execution_count": null,
   "metadata": {},
   "outputs": [],
   "source": [
    "%%timeit\n",
    "calc_mu_density(delivery_data.monitor_units, delivery_data.mlc, delivery_data.jaw, number_of_sections=1)"
   ]
  },
  {
   "cell_type": "code",
   "execution_count": null,
   "metadata": {},
   "outputs": [],
   "source": [
    "%%timeit\n",
    "calc_mu_density(delivery_data.monitor_units, delivery_data.mlc, delivery_data.jaw, number_of_sections=2)"
   ]
  },
  {
   "cell_type": "code",
   "execution_count": null,
   "metadata": {},
   "outputs": [],
   "source": [
    "%%timeit\n",
    "calc_mu_density(delivery_data.monitor_units, delivery_data.mlc, delivery_data.jaw, number_of_sections=4)"
   ]
  },
  {
   "cell_type": "code",
   "execution_count": null,
   "metadata": {},
   "outputs": [],
   "source": []
  }
 ],
 "metadata": {
  "kernelspec": {
   "display_name": "Python 3",
   "language": "python",
   "name": "python3"
  },
  "language_info": {
   "codemirror_mode": {
    "name": "ipython",
    "version": 3
   },
   "file_extension": ".py",
   "mimetype": "text/x-python",
   "name": "python",
   "nbconvert_exporter": "python",
   "pygments_lexer": "ipython3",
   "version": "3.5.5"
  }
 },
 "nbformat": 4,
 "nbformat_minor": 2
}
