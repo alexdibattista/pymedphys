{
 "cells": [
  {
   "cell_type": "code",
   "execution_count": null,
   "metadata": {},
   "outputs": [],
   "source": [
    "import os\n",
    "from glob import glob\n",
    "from copy import deepcopy\n",
    "\n",
    "import numpy as np\n",
    "import matplotlib.pyplot as plt\n",
    "\n",
    "import pydicom\n",
    "from pymedphys.deliverydata import DeliveryData\n",
    "from pymedphys.dcm import anonymise_dicom, coords_and_dose_from_dcm\n",
    "from pymedphys.mudensity import find_relevant_control_points, calc_mu_density, get_grid\n",
    "from pymedphys.logfile import delivery_data_from_logfile\n",
    "from pymedphys.gamma import gamma_dcm, convert_to_percent_pass\n",
    "\n",
    "from pymedphys.plt import pcolormesh_grid"
   ]
  },
  {
   "cell_type": "code",
   "execution_count": null,
   "metadata": {},
   "outputs": [],
   "source": [
    "data_root = r'C:\\Users\\sbiggs\\logfile2dicom\\endometrium'"
   ]
  },
  {
   "cell_type": "code",
   "execution_count": null,
   "metadata": {},
   "outputs": [],
   "source": [
    "logfile_40ms_dose_dicom_path = glob(os.path.join(\n",
    "    data_root, 'calced_dose', '*LogfileCalc40msLow*.dcm'\n",
    "))[0]\n",
    "\n",
    "logfile_40ms_dose_dicom_path"
   ]
  },
  {
   "cell_type": "code",
   "execution_count": null,
   "metadata": {},
   "outputs": [],
   "source": [
    "# logfile_240ms_dose_dicom_path = glob(os.path.join(\n",
    "#     data_root, 'calced_dose', '*LogfileCalc240msLow*.dcm'\n",
    "# ))[0]\n",
    "\n",
    "# logfile_240ms_dose_dicom_path"
   ]
  },
  {
   "cell_type": "code",
   "execution_count": null,
   "metadata": {},
   "outputs": [],
   "source": [
    "patient_dose_dicom_path = glob(os.path.join(\n",
    "    data_root, 'calced_dose', '*OneBeam*.dcm'\n",
    "))[0]\n",
    "\n",
    "patient_dose_dicom_path"
   ]
  },
  {
   "cell_type": "code",
   "execution_count": null,
   "metadata": {},
   "outputs": [],
   "source": []
  },
  {
   "cell_type": "code",
   "execution_count": null,
   "metadata": {},
   "outputs": [],
   "source": [
    "# dose_percent_threshold = 2\n",
    "# distance_threshold = 2\n",
    "\n",
    "# gamma = gamma_dcm(\n",
    "#     logfile_240ms_dose_dicom_path, patient_dose_dicom_path,\n",
    "#     dose_percent_threshold, distance_threshold, local_gamma=True, random_subset=10000, max_gamma=1.1)\n",
    "\n",
    "# valid_gamma = gamma[~np.isnan(gamma)]\n",
    "# print(np.mean(valid_gamma < 1))\n",
    "\n",
    "# num_points = len(valid_gamma)\n",
    "# weights = np.ones(num_points)/num_points\n",
    "\n",
    "# plt.hist(valid_gamma, 20, weights=weights)\n",
    "# plt.title('Gamma histogram {}% / {} mm | 20% lower dose cutoff'.format(dose_percent_threshold, distance_threshold))\n",
    "# plt.xlabel('Local Gamma')\n",
    "# plt.ylabel('Normalised bin count')\n",
    "\n",
    "# max_x_axis = np.ceil(np.max(valid_gamma))\n",
    "\n",
    "# plt.xlim([0, max_x_axis])\n",
    "# plt.show()"
   ]
  },
  {
   "cell_type": "code",
   "execution_count": null,
   "metadata": {},
   "outputs": [],
   "source": [
    "# dose_percent_threshold = 2\n",
    "# distance_threshold = 2\n",
    "\n",
    "\n",
    "# gamma = gamma_dcm(\n",
    "#     logfile_40ms_dose_dicom_path, patient_dose_dicom_path, \n",
    "#     dose_percent_threshold, distance_threshold, local_gamma=True)\n",
    "\n",
    "# valid_gamma = gamma[~np.isnan(gamma)]\n",
    "# print(np.mean(valid_gamma < 1))\n",
    "\n",
    "# num_points = len(valid_gamma)\n",
    "# weights = np.ones(num_points)/num_points\n",
    "\n",
    "# plt.hist(valid_gamma, 20, weights=weights)\n",
    "# plt.title('Gamma histogram {}% / {} mm | 20% lower dose cutoff'.format(dose_percent_threshold, distance_threshold))\n",
    "# plt.xlabel('Local Gamma')\n",
    "# plt.ylabel('Normalised bin count')\n",
    "\n",
    "# max_x_axis = np.ceil(np.max(valid_gamma))\n",
    "\n",
    "# plt.xlim([0, max_x_axis])\n",
    "# plt.show()"
   ]
  },
  {
   "cell_type": "code",
   "execution_count": null,
   "metadata": {},
   "outputs": [],
   "source": []
  },
  {
   "cell_type": "code",
   "execution_count": null,
   "metadata": {},
   "outputs": [],
   "source": []
  },
  {
   "cell_type": "code",
   "execution_count": null,
   "metadata": {},
   "outputs": [],
   "source": [
    "coords_reference, dose_reference = coords_and_dose_from_dcm(\n",
    "    patient_dose_dicom_path)\n",
    "coords_evaluation_240, dose_evaluation_240 = coords_and_dose_from_dcm(\n",
    "    logfile_240ms_dose_dicom_path)\n",
    "\n",
    "coords_evaluation_40, dose_evaluation_40 = coords_and_dose_from_dcm(\n",
    "    logfile_40ms_dose_dicom_path)"
   ]
  },
  {
   "cell_type": "code",
   "execution_count": null,
   "metadata": {},
   "outputs": [],
   "source": [
    "keep = dose_reference > 0.2*np.max(dose_reference)\n",
    "num_points = np.sum(keep)\n",
    "weights = np.ones(num_points)/num_points\n",
    "\n",
    "diff_240 = (dose_evaluation_240 - dose_reference)[keep]\n",
    "diff_40 = (dose_evaluation_40 - dose_reference)[keep]"
   ]
  },
  {
   "cell_type": "code",
   "execution_count": null,
   "metadata": {},
   "outputs": [],
   "source": [
    "# plt.hist(diff_40, 100, weights=weights)\n",
    "# np.std(diff_40)"
   ]
  },
  {
   "cell_type": "code",
   "execution_count": null,
   "metadata": {},
   "outputs": [],
   "source": [
    "# plt.hist(diff_240, 100, weights=weights)\n",
    "# np.std(diff_240)"
   ]
  },
  {
   "cell_type": "code",
   "execution_count": null,
   "metadata": {},
   "outputs": [],
   "source": []
  },
  {
   "cell_type": "code",
   "execution_count": null,
   "metadata": {},
   "outputs": [],
   "source": []
  },
  {
   "cell_type": "code",
   "execution_count": null,
   "metadata": {},
   "outputs": [],
   "source": [
    "dose_percent_threshold = 2\n",
    "distance_threshold = 1\n",
    "\n",
    "\n",
    "gamma = gamma_dcm(\n",
    "    patient_dose_dicom_path, logfile_40ms_dose_dicom_path,\n",
    "    dose_percent_threshold, distance_threshold, local_gamma=True)\n",
    "\n",
    "valid_gamma = gamma[~np.isnan(gamma)]\n",
    "print(np.mean(valid_gamma < 1))\n",
    "\n",
    "num_points = len(valid_gamma)\n",
    "weights = np.ones(num_points)/num_points\n",
    "\n",
    "plt.hist(valid_gamma, 20, weights=weights)\n",
    "plt.title('Gamma histogram {}% / {} mm | 20% lower dose cutoff'.format(dose_percent_threshold, distance_threshold))\n",
    "plt.xlabel('Local Gamma')\n",
    "plt.ylabel('Normalised bin count')\n",
    "\n",
    "max_x_axis = np.ceil(np.max(valid_gamma))\n",
    "\n",
    "plt.xlim([0, max_x_axis])\n",
    "plt.show()"
   ]
  },
  {
   "cell_type": "code",
   "execution_count": null,
   "metadata": {},
   "outputs": [],
   "source": [
    "num_points = len(valid_gamma)\n",
    "weights = np.ones(num_points)/num_points\n",
    "\n",
    "pass_rate = np.round(np.mean(valid_gamma < 1) * 100, decimals=1)\n",
    "\n",
    "plt.figure(figsize=(8,5))\n",
    "\n",
    "plt.hist(valid_gamma, 40, weights=weights, label=\"Gamma pass = {}%\".format(pass_rate))\n",
    "plt.title('Local Gamma histogram {}% / {} mm | 20% lower dose cutoff'.format(dose_percent_threshold, distance_threshold))\n",
    "plt.xlabel('Local Gamma')\n",
    "plt.ylabel('Normalised bin count')\n",
    "\n",
    "max_x_axis = np.ceil(np.max(valid_gamma))\n",
    "\n",
    "plt.xlim([0, 2])\n",
    "plt.legend()\n",
    "plt.show()"
   ]
  },
  {
   "cell_type": "code",
   "execution_count": null,
   "metadata": {},
   "outputs": [],
   "source": [
    "diff = dose_evaluation_40 - dose_reference\n",
    "max_diff = np.max(np.abs(diff))\n",
    "max_dose = np.max([np.max(dose_evaluation_40), np.max(dose_reference)])\n"
   ]
  },
  {
   "cell_type": "code",
   "execution_count": null,
   "metadata": {},
   "outputs": [],
   "source": [
    "np.where(np.abs(diff) == max_diff)"
   ]
  },
  {
   "cell_type": "code",
   "execution_count": null,
   "metadata": {},
   "outputs": [],
   "source": [
    "\n",
    "# i = 54\n",
    "\n",
    "# nanned_dose_evaluation == 0\n",
    "\n",
    "\n",
    "y, x = pcolormesh_grid(coords_reference[0], coords_reference[1])\n",
    "\n",
    "\n",
    "def create_plots(i):\n",
    "    print(i)\n",
    "    plt.figure(figsize=(10,5))\n",
    "    plt.pcolormesh(x, y, dose_reference[:,:,i], vmin=0, vmax=max_dose)\n",
    "    plt.axis('equal')\n",
    "    # plt.xlim([-400,-200])\n",
    "    # plt.ylim([-20,200])\n",
    "    cbar = plt.colorbar()\n",
    "    cbar.set_label('Single fraction dose (Gy)')\n",
    "    plt.gca().invert_yaxis()\n",
    "    plt.title('Original planned beam')\n",
    "    plt.xlabel('x (mm)')\n",
    "    plt.ylabel('z (mm)')\n",
    "    plt.show()\n",
    "\n",
    "    plt.figure(figsize=(10,5))\n",
    "    plt.pcolormesh(x, y, dose_evaluation_40[:,:,i], vmin=0, vmax=max_dose)\n",
    "    plt.axis('equal')\n",
    "    # plt.xlim([-400,-200])\n",
    "    # plt.ylim([-20,200])\n",
    "    cbar = plt.colorbar()\n",
    "    cbar.set_label('Single fraction dose (Gy)')\n",
    "    plt.gca().invert_yaxis()\n",
    "    plt.title('Logfile produced beam')\n",
    "    plt.xlabel('x (mm)')\n",
    "    plt.ylabel('z (mm)')\n",
    "    plt.show()\n",
    "\n",
    "    plt.figure(figsize=(10,5))\n",
    "    plt.pcolormesh(x, y, diff[:,:,i], vmin=-max_diff, vmax=max_diff, cmap='bwr')\n",
    "    plt.axis('equal')\n",
    "    # plt.xlim([-400,-200])\n",
    "    # plt.ylim([-20,200])\n",
    "    cbar = plt.colorbar()\n",
    "    cbar.set_label('Single fraction dose difference (Gy)')\n",
    "    plt.gca().invert_yaxis()\n",
    "    plt.title('Dose difference (Logfile - Original)')\n",
    "    plt.xlabel('x (mm)')\n",
    "    plt.ylabel('z (mm)')\n",
    "    plt.show()\n",
    "    \n",
    "    plt.figure(figsize=(10,5))\n",
    "    plt.pcolormesh(x, y, gamma[:,:,i], vmin=0, vmax=2, cmap='coolwarm')\n",
    "    plt.axis('equal')\n",
    "    # plt.xlim([-400,-200])\n",
    "    # plt.ylim([-20,200])\n",
    "    cbar = plt.colorbar()\n",
    "    cbar.set_label('Gamma')\n",
    "    plt.gca().invert_yaxis()\n",
    "    plt.title('Local Gamma {}% / {} mm | 20% lower dose cutoff'.format(dose_percent_threshold, distance_threshold))\n",
    "    plt.xlabel('x (mm)')\n",
    "    plt.ylabel('z (mm)')\n",
    "    plt.show()\n",
    "    \n",
    "\n",
    "for i in range(49,135):\n",
    "    create_plots(i)"
   ]
  },
  {
   "cell_type": "code",
   "execution_count": null,
   "metadata": {},
   "outputs": [],
   "source": []
  }
 ],
 "metadata": {
  "kernelspec": {
   "display_name": "Python 3",
   "language": "python",
   "name": "python3"
  },
  "language_info": {
   "codemirror_mode": {
    "name": "ipython",
    "version": 3
   },
   "file_extension": ".py",
   "mimetype": "text/x-python",
   "name": "python",
   "nbconvert_exporter": "python",
   "pygments_lexer": "ipython3",
   "version": "3.7.0"
  }
 },
 "nbformat": 4,
 "nbformat_minor": 2
}
