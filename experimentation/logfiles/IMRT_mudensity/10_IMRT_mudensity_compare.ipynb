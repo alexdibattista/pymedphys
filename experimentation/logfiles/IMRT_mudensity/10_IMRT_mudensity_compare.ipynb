{
 "cells": [
  {
   "cell_type": "code",
   "execution_count": null,
   "metadata": {},
   "outputs": [],
   "source": [
    "import os\n",
    "import json\n",
    "import yaml\n",
    "\n",
    "import numpy as np\n",
    "\n",
    "from pymedphys.level1.msqconnect import mosaiq_connect\n",
    "from pymedphys.level1.configutilities import get_index, get_data_directory\n",
    "from pymedphys.level2.msqdelivery import multi_fetch_and_verify_mosaiq\n",
    "\n",
    "from pymedphys.level4.comparebygantry import (\n",
    "    get_mappings, get_comparisons_byfield\n",
    ")"
   ]
  },
  {
   "cell_type": "code",
   "execution_count": null,
   "metadata": {},
   "outputs": [],
   "source": [
    "with open('../config.json') as config_file:\n",
    "    config = json.load(config_file)"
   ]
  },
  {
   "cell_type": "code",
   "execution_count": null,
   "metadata": {},
   "outputs": [],
   "source": [
    "data_directory = get_data_directory(config)\n",
    "\n",
    "cache_filepath = os.path.join(data_directory, 'cache', 'dmlc_comparison.yaml')\n",
    "cache_scratch_filepath = os.path.join(data_directory, 'cache', 'dmlc_comparison_scratch.yaml')\n",
    "\n",
    "with open(cache_filepath, 'r') as cache_file:\n",
    "    cache = yaml.load(cache_file)"
   ]
  },
  {
   "cell_type": "code",
   "execution_count": null,
   "metadata": {},
   "outputs": [],
   "source": [
    "patient_ids_compared = set(cache.keys())"
   ]
  },
  {
   "cell_type": "code",
   "execution_count": null,
   "metadata": {},
   "outputs": [],
   "source": [
    "index = get_index(config)\n",
    "file_hashes = np.array(list(index.keys()))\n",
    "\n",
    "field_types = np.array([\n",
    "    index[file_hash]['delivery_details']['field_type']\n",
    "    for file_hash in file_hashes\n",
    "])\n",
    "\n",
    "file_hashes = file_hashes[field_types == 'DMLC']\n",
    "\n",
    "is_qa = np.array([\n",
    "    index[file_hash]['delivery_details']['qa_mode']\n",
    "    for file_hash in file_hashes\n",
    "])\n",
    "\n",
    "file_hashes = file_hashes[np.invert(is_qa)]\n",
    "\n",
    "machine = np.array([\n",
    "    index[file_hash]['logfile_header']['machine']\n",
    "    for file_hash in file_hashes\n",
    "])\n",
    "\n",
    "# limit to RCCC for now\n",
    "file_hashes = file_hashes[(machine == '2619') | (machine == '2694')]\n",
    "np.random.shuffle(file_hashes)\n",
    "\n",
    "# might need course information\n",
    "index[file_hashes[0]]"
   ]
  },
  {
   "cell_type": "code",
   "execution_count": null,
   "metadata": {},
   "outputs": [],
   "source": [
    "patient_grouped_fields, field_id_grouped_hashes = get_mappings(index, file_hashes)"
   ]
  },
  {
   "cell_type": "code",
   "execution_count": null,
   "metadata": {},
   "outputs": [],
   "source": [
    "patient_ids = set(patient_grouped_fields.keys())"
   ]
  },
  {
   "cell_type": "code",
   "execution_count": null,
   "metadata": {},
   "outputs": [],
   "source": [
    "patient_ids_not_compared = patient_ids.difference(patient_ids_compared)"
   ]
  },
  {
   "cell_type": "code",
   "execution_count": null,
   "metadata": {},
   "outputs": [],
   "source": [
    "for patient_id in patient_ids_not_compared:\n",
    "    field_ids = patient_grouped_fields[patient_id]\n",
    "    comparisons_byfield = get_comparisons_byfield(index, config, field_ids, field_id_grouped_hashes)\n",
    "    \n",
    "    cache[patient_id] = comparisons_byfield\n",
    "    \n",
    "    with open(cache_scratch_filepath, 'w') as cache_scratch_file:\n",
    "        yaml.dump(cache, cache_scratch_file)\n",
    "        \n",
    "    os.replace(cache_scratch_filepath, cache_filepath)"
   ]
  },
  {
   "cell_type": "code",
   "execution_count": null,
   "metadata": {},
   "outputs": [],
   "source": [
    "cache"
   ]
  },
  {
   "cell_type": "code",
   "execution_count": null,
   "metadata": {},
   "outputs": [],
   "source": []
  },
  {
   "cell_type": "code",
   "execution_count": null,
   "metadata": {},
   "outputs": [],
   "source": []
  },
  {
   "cell_type": "code",
   "execution_count": null,
   "metadata": {},
   "outputs": [],
   "source": []
  },
  {
   "cell_type": "code",
   "execution_count": null,
   "metadata": {},
   "outputs": [],
   "source": []
  },
  {
   "cell_type": "code",
   "execution_count": null,
   "metadata": {},
   "outputs": [],
   "source": []
  },
  {
   "cell_type": "code",
   "execution_count": null,
   "metadata": {},
   "outputs": [],
   "source": []
  },
  {
   "cell_type": "code",
   "execution_count": null,
   "metadata": {},
   "outputs": [],
   "source": []
  }
 ],
 "metadata": {
  "kernelspec": {
   "display_name": "Python 3",
   "language": "python",
   "name": "python3"
  },
  "language_info": {
   "codemirror_mode": {
    "name": "ipython",
    "version": 3
   },
   "file_extension": ".py",
   "mimetype": "text/x-python",
   "name": "python",
   "nbconvert_exporter": "python",
   "pygments_lexer": "ipython3",
   "version": "3.5.5"
  }
 },
 "nbformat": 4,
 "nbformat_minor": 2
}
