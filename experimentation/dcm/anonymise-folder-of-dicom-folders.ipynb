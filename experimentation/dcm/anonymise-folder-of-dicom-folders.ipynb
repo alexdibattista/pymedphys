{
 "cells": [
  {
   "cell_type": "code",
   "execution_count": null,
   "metadata": {},
   "outputs": [],
   "source": [
    "import os\n",
    "from pymedphys.dcm import anonymise_dicom\n",
    "import pydicom"
   ]
  },
  {
   "cell_type": "code",
   "execution_count": null,
   "metadata": {},
   "outputs": [],
   "source": [
    "IN_ROOT = r\"S:\\MedPhys_Physics Admin\\Physicists Folders\\Matt J\\Tasks\\Anonymised datasets\\1\"\n",
    "\n",
    "in_paths = []\n",
    "\n",
    "for root, dirs, files in os.walk(os.path.abspath(IN_PATH)):\n",
    "    for file in files:\n",
    "        filepath = os.path.join(root, file)   \n",
    "        if name.endswith('.dcm'):\n",
    "            in_paths.append(filepath)\n",
    "\n",
    "# Second for loop permits tracking\n",
    "file_count = len(in_paths)\n",
    "for i in range(file_count):\n",
    "    path = in_paths[i]\n",
    "    dir_anon = os.path.join(os.path.dirname(path), \"anon\")\n",
    "    path_anon = os.path.join(dir_anon, os.path.basename(path))\n",
    "    \n",
    "    if not os.path.exists(dir_anon):\n",
    "        os.mkdir(dir_anon)\n",
    "    \n",
    "    ds = pydicom.dcmread(path)\n",
    "    ds_anon = anonymise_dicom(ds)\n",
    "    ds_anon.save_as(path_anon)\n",
    "    print(\"Completed {} of {} files\".format(i+1, file_count))\n",
    "    "
   ]
  },
  {
   "cell_type": "code",
   "execution_count": null,
   "metadata": {},
   "outputs": [],
   "source": []
  }
 ],
 "metadata": {
  "kernelspec": {
   "display_name": "Python 3",
   "language": "python",
   "name": "python3"
  },
  "language_info": {
   "codemirror_mode": {
    "name": "ipython",
    "version": 3
   },
   "file_extension": ".py",
   "mimetype": "text/x-python",
   "name": "python",
   "nbconvert_exporter": "python",
   "pygments_lexer": "ipython3",
   "version": "3.7.1"
  }
 },
 "nbformat": 4,
 "nbformat_minor": 2
}
