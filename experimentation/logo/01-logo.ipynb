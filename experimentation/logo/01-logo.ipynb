{
 "cells": [
  {
   "cell_type": "code",
   "execution_count": null,
   "metadata": {},
   "outputs": [],
   "source": [
    "import numpy as np\n",
    "import matplotlib.pyplot as plt\n",
    "%matplotlib inline\n",
    "\n",
    "import shapely.geometry as geo\n",
    "from descartes.patch import PolygonPatch"
   ]
  },
  {
   "cell_type": "code",
   "execution_count": null,
   "metadata": {},
   "outputs": [],
   "source": [
    "colours = plt.cm.viridis(np.linspace(0,1,10))"
   ]
  },
  {
   "cell_type": "code",
   "execution_count": null,
   "metadata": {},
   "outputs": [],
   "source": [
    "bound = 3\n",
    "\n",
    "x = np.linspace(-bound, bound, 1000)\n",
    "y = bound/1.618 * np.exp(-x**2/2) * np.sin(2 * np.pi * x) \n",
    "linestring = geo.LineString(zip(x, y))"
   ]
  },
  {
   "cell_type": "code",
   "execution_count": null,
   "metadata": {},
   "outputs": [],
   "source": [
    "squiggle = linestring.buffer(0.2)\n",
    "squiggle"
   ]
  },
  {
   "cell_type": "code",
   "execution_count": null,
   "metadata": {},
   "outputs": [],
   "source": [
    "for colour in colours:\n",
    "    fig = plt.figure(1, figsize=(10,10), dpi=90)\n",
    "    fig.set_frameon(True)\n",
    "    ax = fig.add_subplot(111)\n",
    "\n",
    "    patch = PolygonPatch(squiggle, facecolor=colour, alpha=1, zorder=2)\n",
    "    ax.add_patch(patch)\n",
    "\n",
    "    plt.xlim(-bound-1, bound+1)\n",
    "    plt.ylim(-bound-1, bound+1)\n",
    "    \n",
    "    plt.show()"
   ]
  },
  {
   "cell_type": "code",
   "execution_count": null,
   "metadata": {},
   "outputs": [],
   "source": []
  }
 ],
 "metadata": {
  "kernelspec": {
   "display_name": "Python 3",
   "language": "python",
   "name": "python3"
  },
  "language_info": {
   "codemirror_mode": {
    "name": "ipython",
    "version": 3
   },
   "file_extension": ".py",
   "mimetype": "text/x-python",
   "name": "python",
   "nbconvert_exporter": "python",
   "pygments_lexer": "ipython3",
   "version": "3.6.6"
  }
 },
 "nbformat": 4,
 "nbformat_minor": 2
}
