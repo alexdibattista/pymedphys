{
 "cells": [
  {
   "cell_type": "code",
   "execution_count": null,
   "metadata": {},
   "outputs": [],
   "source": [
    "import pydicom as dcm\n",
    "from pydicom.uid import generate_uid\n",
    "import glob, os\n",
    "import numpy as np\n",
    "import shutil\n",
    "from datetime import datetime\n",
    "\n",
    "os.chdir(r\"E:\\Workspace\\dicomutils\\cube2\")\n",
    "if not os.path.exists(\"cube2_adjusted\"):\n",
    "    os.mkdir(\"cube2_adjusted\")\n",
    "\n",
    "for file in glob.glob(\"CT*.dcm\"):\n",
    "    ds = dcm.dcmread(file)\n",
    "    \n",
    "    ds.Manufacturer = \"PyMedPhys\"\n",
    "    ds.ManufacturersModelName = \"0.5.0\"\n",
    "    ds.TimezoneOffsetFromUTC = \"+0930\"\n",
    "    ds.DerivationDescription = \"Generated using PyDICOM & RaySearch's dicomutils\"\n",
    "    \n",
    "    ds.PatientName = \"Phantom^Water\"\n",
    "    ds.PatientID = \"WATER\"\n",
    "    ds.PatientSex = \"O\"\n",
    "    \n",
    "    ds.ImagePositionPatient[0]=-250\n",
    "    ds.ImagePositionPatient[1]=0.5        \n",
    "    \n",
    "    ds.save_as(\"cube2_adjusted\\\\\" + file)\n",
    "    print(ds.ImagePositionPatient)\n",
    "    print(ds.PixelSpacing[0])\n",
    "    \n",
    "shutil.make_archive(\"cube2_adjusted\", 'zip', \"cube2_adjusted\")"
   ]
  },
  {
   "cell_type": "code",
   "execution_count": null,
   "metadata": {},
   "outputs": [],
   "source": []
  },
  {
   "cell_type": "code",
   "execution_count": null,
   "metadata": {},
   "outputs": [],
   "source": []
  }
 ],
 "metadata": {
  "kernelspec": {
   "display_name": "Python 3",
   "language": "python",
   "name": "python3"
  },
  "language_info": {
   "codemirror_mode": {
    "name": "ipython",
    "version": 3
   },
   "file_extension": ".py",
   "mimetype": "text/x-python",
   "name": "python",
   "nbconvert_exporter": "python",
   "pygments_lexer": "ipython3",
   "version": "3.6.6"
  }
 },
 "nbformat": 4,
 "nbformat_minor": 2
}
