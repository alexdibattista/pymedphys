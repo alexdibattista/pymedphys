{
 "cells": [
  {
   "cell_type": "code",
   "execution_count": null,
   "metadata": {},
   "outputs": [],
   "source": [
    "import pydicom as dcm\n",
    "from pydicom.uid import generate_uid\n",
    "import glob, os\n",
    "import numpy as np\n",
    "import shutil\n",
    "from datetime import datetime\n",
    "\n",
    "os.chdir(r\"E:\\Workspace\\dicomutils\\cube\")\n",
    "if not os.path.exists(\"cube_adjusted\"):\n",
    "    os.mkdir(\"cube_adjusted\")\n",
    "\n",
    "for file in glob.glob(\"CT*.dcm\"):\n",
    "    ds = dcm.dcmread(file)\n",
    "    \n",
    "    ds.Manufacturer = \"PyMedPhys\"\n",
    "    ds.ManufacturersModelName = \"0.5.0\"\n",
    "    ds.TimezoneOffsetFromUTC = \"+0930\"\n",
    "    ds.DerivationDescription = \"Generated using PyDICOM & RaySearch's dicomutils\"\n",
    "    \n",
    "    ds.PatientName = \"Phantom^Water\"\n",
    "    ds.PatientID = \"PMP_WATER\"\n",
    "    ds.PatientSex = \"O\"\n",
    "    ds.SliceThickness = 5\n",
    "    ds.Rows = 500\n",
    "    ds.Columns=500\n",
    "    \n",
    "    ds.ImagePositionPatient[0]=-249.5\n",
    "    ds.ImagePositionPatient[1]=0.5        \n",
    "    \n",
    "    ds.save_as(\"cube_adjusted\\\\\" + file)\n",
    "    print(ds.ImagePositionPatient)\n",
    "    print(ds.PixelSpacing[0])\n",
    "    \n",
    "shutil.make_archive(\"cube_adjusted\", 'zip', \"cube_adjusted\")"
   ]
  },
  {
   "cell_type": "code",
   "execution_count": null,
   "metadata": {},
   "outputs": [],
   "source": []
  },
  {
   "cell_type": "code",
   "execution_count": null,
   "metadata": {},
   "outputs": [],
   "source": []
  }
 ],
 "metadata": {
  "kernelspec": {
   "display_name": "Python 3",
   "language": "python",
   "name": "python3"
  },
  "language_info": {
   "codemirror_mode": {
    "name": "ipython",
    "version": 3
   },
   "file_extension": ".py",
   "mimetype": "text/x-python",
   "name": "python",
   "nbconvert_exporter": "python",
   "pygments_lexer": "ipython3",
   "version": "3.6.6"
  }
 },
 "nbformat": 4,
 "nbformat_minor": 2
}
