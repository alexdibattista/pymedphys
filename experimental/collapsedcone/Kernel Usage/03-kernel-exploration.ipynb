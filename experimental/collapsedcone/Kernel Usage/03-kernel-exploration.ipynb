{
 "cells": [
  {
   "cell_type": "code",
   "execution_count": null,
   "metadata": {},
   "outputs": [],
   "source": [
    "from glob import glob\n",
    "\n",
    "import numpy as np\n",
    "import pandas as pd\n",
    "\n",
    "import matplotlib.pyplot as plt"
   ]
  },
  {
   "cell_type": "code",
   "execution_count": null,
   "metadata": {},
   "outputs": [],
   "source": [
    "def voxel_volume(r1, r2, theta1, theta2):\n",
    "    volume = 2/3 * np.pi * (r2**3 - r1**3) * (np.cos(theta1) - np.cos(theta2))\n",
    "    return volume"
   ]
  },
  {
   "cell_type": "code",
   "execution_count": null,
   "metadata": {},
   "outputs": [],
   "source": [
    "radii_filepath = '../../../data/collapsedcone/kernels/original/voxels.dat'\n",
    "loaded_radii_boundaries = pd.read_csv(radii_filepath, header=None)[0].values\n",
    "\n",
    "radii_boundaries = np.concatenate([[0], loaded_radii_boundaries])\n",
    "radii = radii_boundaries[0:-1] + (radii_boundaries[1::] - radii_boundaries[0:-1]) / 2"
   ]
  },
  {
   "cell_type": "code",
   "execution_count": null,
   "metadata": {},
   "outputs": [],
   "source": [
    "dtheta = np.pi / 48\n",
    "angle_boundaries = np.arange(0, np.pi + dtheta, dtheta)"
   ]
  },
  {
   "cell_type": "code",
   "execution_count": null,
   "metadata": {},
   "outputs": [],
   "source": [
    "degrees = np.arange(180/48/2, 180, 180/48)"
   ]
  },
  {
   "cell_type": "code",
   "execution_count": null,
   "metadata": {},
   "outputs": [],
   "source": [
    "theta_mesh, radii_mesh = np.meshgrid(degrees/180 *np.pi, radii)\n",
    "\n",
    "xx = radii_mesh * np.cos(theta_mesh)\n",
    "yy = radii_mesh * np.sin(theta_mesh)"
   ]
  },
  {
   "cell_type": "code",
   "execution_count": null,
   "metadata": {},
   "outputs": [],
   "source": [
    "voxel_volumes_mesh = np.array([\n",
    "    [\n",
    "        voxel_volume(\n",
    "            radii_boundaries[i], radii_boundaries[i+1], \n",
    "            angle_boundaries[j], angle_boundaries[j+1])\n",
    "        for j in range(len(angle_boundaries) - 1)\n",
    "    ] for i in range(len(radii_boundaries) - 1)\n",
    "])\n",
    "\n",
    "np.shape(voxel_volumes_mesh)"
   ]
  },
  {
   "cell_type": "code",
   "execution_count": null,
   "metadata": {},
   "outputs": [],
   "source": [
    "voxel_mass_mesh = voxel_volumes_mesh / 1000  # cm^3 of water --> kg"
   ]
  },
  {
   "cell_type": "code",
   "execution_count": null,
   "metadata": {},
   "outputs": [],
   "source": [
    "len(radii_boundaries)"
   ]
  },
  {
   "cell_type": "code",
   "execution_count": null,
   "metadata": {},
   "outputs": [],
   "source": [
    "np.shape(theta_mesh)"
   ]
  },
  {
   "cell_type": "code",
   "execution_count": null,
   "metadata": {},
   "outputs": [],
   "source": []
  },
  {
   "cell_type": "code",
   "execution_count": null,
   "metadata": {},
   "outputs": [],
   "source": [
    "glob('../../../data/collapsedcone/kernels/original/scaf*')"
   ]
  },
  {
   "cell_type": "code",
   "execution_count": null,
   "metadata": {},
   "outputs": [],
   "source": [
    "kernel_filepath = '../../../data/collapsedcone/kernels/original/scaf1250'\n",
    "kernel_file = pd.read_csv(kernel_filepath, header=None, delimiter='\\s+')"
   ]
  },
  {
   "cell_type": "code",
   "execution_count": null,
   "metadata": {},
   "outputs": [],
   "source": [
    "mev_to_joule = 1.6021773e-13\n",
    "joules = 1.25 * mev_to_joule\n",
    "joules"
   ]
  },
  {
   "cell_type": "code",
   "execution_count": null,
   "metadata": {},
   "outputs": [],
   "source": [
    "index_map = {\n",
    "    0: 'primary',\n",
    "    1: 'first_scatter',\n",
    "    2: 'second_scatter',\n",
    "    3: 'multiple_scatter',\n",
    "    4: 'bremsstrahlung_and_annihilation',\n",
    "    5: 'mean_radius',\n",
    "    6: 'mean_angle'\n",
    "}\n",
    "\n",
    "def get_item_from_kernel_file(index):\n",
    "    column_1 = kernel_file.iloc[index::7, 0].values\n",
    "    \n",
    "    return np.reshape(column_1, (len(degrees), len(radii))).T\n",
    "\n",
    "# kernel_data = {\n",
    "#     index_map[index]: get_item_from_kernel_file(index)\n",
    "#     for index in index_map\n",
    "# }\n",
    "\n",
    "# total_dose = (\n",
    "#     kernel_data['primary'] +\n",
    "#     kernel_data['first_scatter'] + \n",
    "#     kernel_data['second_scatter'] +\n",
    "#     kernel_data['multiple_scatter'] +\n",
    "#     kernel_data['bremsstrahlung_and_annihilation']\n",
    "# ) * joules / voxel_mass_mesh"
   ]
  },
  {
   "cell_type": "code",
   "execution_count": null,
   "metadata": {},
   "outputs": [],
   "source": [
    "dose_index = range(5)\n",
    "\n",
    "dose_data = {\n",
    "    index_map[index]: get_item_from_kernel_file(index) * joules / voxel_mass_mesh\n",
    "    for index in dose_index\n",
    "}\n",
    "\n",
    "total_dose = (\n",
    "    dose_data['primary'] +\n",
    "    dose_data['first_scatter'] + \n",
    "    dose_data['second_scatter'] +\n",
    "    dose_data['multiple_scatter'] +\n",
    "    dose_data['bremsstrahlung_and_annihilation']\n",
    ")\n",
    "\n",
    "voxel_index = range(5,7)\n",
    "\n",
    "voxel_data = {\n",
    "    index_map[index]: get_item_from_kernel_file(index)\n",
    "    for index in voxel_index\n",
    "}"
   ]
  },
  {
   "cell_type": "code",
   "execution_count": null,
   "metadata": {},
   "outputs": [],
   "source": [
    "paper_data = {\n",
    "    index_map[index]: get_item_from_kernel_file(index) * mev_to_joule / voxel_mass_mesh * 100  # cGy / MeV / photon\n",
    "    for index in dose_index\n",
    "}\n",
    "\n",
    "total_dose_paper_data = (\n",
    "    paper_data['primary'] +\n",
    "    paper_data['first_scatter'] + \n",
    "    paper_data['second_scatter'] +\n",
    "    paper_data['multiple_scatter'] +\n",
    "    paper_data['bremsstrahlung_and_annihilation']\n",
    ")"
   ]
  },
  {
   "cell_type": "code",
   "execution_count": null,
   "metadata": {},
   "outputs": [],
   "source": [
    "plt.scatter(xx, yy, c=np.log10(paper_data['primary']), s=5)\n",
    "plt.contour(xx, yy, np.log10(paper_data['primary']), levels=[-11, -10, -9, -8])\n",
    "plt.colorbar()\n",
    "plt.axis('equal');\n",
    "plt.xlim([-0.5,0.5])\n",
    "plt.ylim([0,0.5])\n",
    "plt.title('Replicating Figure 4')"
   ]
  },
  {
   "cell_type": "code",
   "execution_count": null,
   "metadata": {},
   "outputs": [],
   "source": [
    "plt.scatter(xx, yy, c=np.log10(paper_data['first_scatter']), s=5)\n",
    "plt.contour(xx, yy, np.log10(paper_data['first_scatter']), levels=[-13, -12, -11, -10])\n",
    "plt.colorbar()\n",
    "plt.axis('equal');\n",
    "plt.xlim([-10,10])\n",
    "plt.ylim([0,10])\n",
    "plt.title('Replicating Figure 5')"
   ]
  },
  {
   "cell_type": "code",
   "execution_count": null,
   "metadata": {},
   "outputs": [],
   "source": [
    "plt.scatter(xx, yy, c=np.log10(total_dose_paper_data), s=5)\n",
    "plt.contour(xx, yy, np.log10(total_dose_paper_data), levels=[-13, -12, -11, -10])\n",
    "plt.colorbar()\n",
    "plt.axis('equal');\n",
    "plt.xlim([-10,10])\n",
    "plt.ylim([0,10])\n",
    "plt.title('Replicating Figure 6')"
   ]
  },
  {
   "cell_type": "code",
   "execution_count": null,
   "metadata": {},
   "outputs": [],
   "source": [
    "to_plot = [\n",
    "    'primary', 'first_scatter',\n",
    "    'second_scatter', 'multiple_scatter',\n",
    "    'bremsstrahlung_and_annihilation']"
   ]
  },
  {
   "cell_type": "code",
   "execution_count": null,
   "metadata": {},
   "outputs": [],
   "source": []
  },
  {
   "cell_type": "code",
   "execution_count": null,
   "metadata": {},
   "outputs": [],
   "source": [
    "for i, degree in enumerate(degrees):\n",
    "    plt.figure()\n",
    "    plt.title(degree)\n",
    "    \n",
    "    for key in to_plot:\n",
    "        plt.plot(radii, dose_data[key][:, i], 'o-', label=key)\n",
    "        plt.xlim([0, 1])\n",
    "    \n",
    "    plt.legend()\n",
    "    \n",
    "    plt.show()"
   ]
  },
  {
   "cell_type": "code",
   "execution_count": null,
   "metadata": {},
   "outputs": [],
   "source": [
    "for i, radius in enumerate(radii):\n",
    "    plt.figure()\n",
    "    plt.title(radius)\n",
    "    \n",
    "    for key in to_plot:\n",
    "#         plt.plot(voxel_data['mean_angle'][i, :], dose_data[key][i, :], 'o-', label=key)\n",
    "        plt.plot(degrees, dose_data[key][i, :], 'o-', label=key)\n",
    "    \n",
    "    plt.legend()\n",
    "    \n",
    "    plt.show()"
   ]
  },
  {
   "cell_type": "code",
   "execution_count": null,
   "metadata": {},
   "outputs": [],
   "source": []
  },
  {
   "cell_type": "code",
   "execution_count": null,
   "metadata": {},
   "outputs": [],
   "source": []
  }
 ],
 "metadata": {
  "kernelspec": {
   "display_name": "Python 3",
   "language": "python",
   "name": "python3"
  },
  "language_info": {
   "codemirror_mode": {
    "name": "ipython",
    "version": 3
   },
   "file_extension": ".py",
   "mimetype": "text/x-python",
   "name": "python",
   "nbconvert_exporter": "python",
   "pygments_lexer": "ipython3",
   "version": "3.6.5"
  }
 },
 "nbformat": 4,
 "nbformat_minor": 2
}
