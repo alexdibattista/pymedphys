{
 "cells": [
  {
   "cell_type": "code",
   "execution_count": null,
   "metadata": {},
   "outputs": [],
   "source": [
    "import re\n",
    "from glob import glob\n",
    "\n",
    "import numpy as np\n",
    "import pandas as pd\n",
    "\n",
    "import matplotlib.pyplot as plt"
   ]
  },
  {
   "cell_type": "code",
   "execution_count": null,
   "metadata": {},
   "outputs": [],
   "source": [
    "files = glob('../../../data/collapsedcone/kernels/original/scaf*')\n",
    "\n",
    "def extract_energy_from_filename(filename):\n",
    "    return int(re.search('scaf(\\d+)$', filename).group(1)) / 1000\n",
    "\n",
    "energy_levels = np.sort([\n",
    "    extract_energy_from_filename(filename)\n",
    "    for filename in files\n",
    "])"
   ]
  },
  {
   "cell_type": "code",
   "execution_count": null,
   "metadata": {},
   "outputs": [],
   "source": [
    "def voxel_volume(r1, r2, theta1, theta2):\n",
    "    volume = 2/3 * np.pi * (r2**3 - r1**3) * (np.cos(theta1) - np.cos(theta2))\n",
    "    return volume"
   ]
  },
  {
   "cell_type": "code",
   "execution_count": null,
   "metadata": {},
   "outputs": [],
   "source": [
    "radii_filepath = '../../../data/collapsedcone/kernels/original/voxels.dat'\n",
    "loaded_radii_boundaries = pd.read_csv(radii_filepath, header=None)[0].values\n",
    "\n",
    "radii_boundaries = np.concatenate([[0], loaded_radii_boundaries])\n",
    "radii = radii_boundaries[0:-1] + (radii_boundaries[1::] - radii_boundaries[0:-1]) / 2"
   ]
  },
  {
   "cell_type": "code",
   "execution_count": null,
   "metadata": {},
   "outputs": [],
   "source": [
    "dtheta = np.pi / 48\n",
    "angle_boundaries = np.arange(0, np.pi + dtheta, dtheta)\n",
    "\n",
    "radians = angle_boundaries[0:-1] + (angle_boundaries[1::] - angle_boundaries[0:-1]) / 2\n",
    "degrees = radians * 180 / np.pi"
   ]
  },
  {
   "cell_type": "code",
   "execution_count": null,
   "metadata": {},
   "outputs": [],
   "source": [
    "theta_mesh, radii_mesh = np.meshgrid(degrees/180 *np.pi, radii)\n",
    "\n",
    "xx = radii_mesh * np.cos(theta_mesh)\n",
    "yy = radii_mesh * np.sin(theta_mesh)"
   ]
  },
  {
   "cell_type": "code",
   "execution_count": null,
   "metadata": {},
   "outputs": [],
   "source": [
    "voxel_volumes_mesh = np.array([\n",
    "    [\n",
    "        voxel_volume(\n",
    "            radii_boundaries[i], radii_boundaries[i+1], \n",
    "            angle_boundaries[j], angle_boundaries[j+1])\n",
    "        for j in range(len(angle_boundaries) - 1)\n",
    "    ] for i in range(len(radii_boundaries) - 1)\n",
    "])\n",
    "voxel_mass_mesh = voxel_volumes_mesh / 1000  # cm^3 of water --> kg"
   ]
  },
  {
   "cell_type": "code",
   "execution_count": null,
   "metadata": {},
   "outputs": [],
   "source": [
    "index_map = {\n",
    "    0: 'primary',\n",
    "    1: 'first_scatter',\n",
    "    2: 'second_scatter',\n",
    "    3: 'multiple_scatter',\n",
    "    4: 'bremsstrahlung_and_annihilation',\n",
    "    5: 'mean_radius',\n",
    "    6: 'mean_angle'\n",
    "}"
   ]
  },
  {
   "cell_type": "code",
   "execution_count": null,
   "metadata": {},
   "outputs": [],
   "source": [
    "mev_to_joule = 1.6021773e-13"
   ]
  },
  {
   "cell_type": "code",
   "execution_count": null,
   "metadata": {},
   "outputs": [],
   "source": [
    "def get_item_from_kernel_file(kernel_file, index):\n",
    "    column_1 = kernel_file.iloc[index::7, 0].values\n",
    "    \n",
    "    return np.reshape(column_1, (len(degrees), len(radii))).T\n",
    "\n",
    "\n",
    "def get_kernel_data(kernel_energy): # energy in MeV\n",
    "    kernel_filepath = '../../../data/collapsedcone/kernels/original/scaf{}'.format(\n",
    "        int(kernel_energy * 1000))\n",
    "    kernel_file = pd.read_csv(kernel_filepath, header=None, delimiter='\\s+')\n",
    "    \n",
    "    dose_index = range(5)\n",
    "    \n",
    "    data = {\n",
    "        index_map[index]: (\n",
    "            get_item_from_kernel_file(kernel_file, index)\n",
    "            * mev_to_joule / voxel_mass_mesh * 100  # cGy / MeV / photon\n",
    "        )\n",
    "        for index in dose_index\n",
    "    }\n",
    "    \n",
    "    data['total_dose'] = (\n",
    "        data['primary'] +\n",
    "        data['first_scatter'] + \n",
    "        data['second_scatter'] +\n",
    "        data['multiple_scatter'] +\n",
    "        data['bremsstrahlung_and_annihilation']\n",
    "    )\n",
    "    \n",
    "    return data"
   ]
  },
  {
   "cell_type": "code",
   "execution_count": null,
   "metadata": {},
   "outputs": [],
   "source": [
    "paper_data = {\n",
    "    kernel_energy: get_kernel_data(kernel_energy)\n",
    "    for kernel_energy in energy_levels\n",
    "}"
   ]
  },
  {
   "cell_type": "code",
   "execution_count": null,
   "metadata": {},
   "outputs": [],
   "source": [
    "plt.figure(figsize=(12,5))\n",
    "plt.contour(xx, yy, np.log10(paper_data[1.25]['primary']), levels=[-11, -10, -9, -8])\n",
    "plt.colorbar()\n",
    "plt.axis('equal');\n",
    "plt.xlim([-0.5,0.5])\n",
    "plt.ylim([0,0.5])\n",
    "plt.title('Replicating Figure 4');"
   ]
  },
  {
   "cell_type": "code",
   "execution_count": null,
   "metadata": {},
   "outputs": [],
   "source": [
    "plt.figure(figsize=(12,5))\n",
    "plt.contour(xx, yy, np.log10(paper_data[1.25]['first_scatter']), levels=[-13, -12, -11, -10])\n",
    "plt.colorbar()\n",
    "plt.axis('equal');\n",
    "plt.xlim([-10,10])\n",
    "plt.ylim([0,10])\n",
    "plt.title('Replicating Figure 5');"
   ]
  },
  {
   "cell_type": "code",
   "execution_count": null,
   "metadata": {},
   "outputs": [],
   "source": [
    "plt.figure(figsize=(12,5))\n",
    "plt.contour(xx, yy, np.log10(paper_data[1.25]['total_dose']), levels=[-13, -12, -11, -10])\n",
    "plt.colorbar()\n",
    "plt.axis('equal');\n",
    "plt.xlim([-10,10])\n",
    "plt.ylim([0,10])\n",
    "plt.title('Replicating Figure 6');"
   ]
  },
  {
   "cell_type": "code",
   "execution_count": null,
   "metadata": {},
   "outputs": [],
   "source": [
    "plt.figure(figsize=(12,5))\n",
    "plt.contour(xx, yy, np.log10(paper_data[0.1]['total_dose']), levels=[-12, -11, -10])\n",
    "plt.colorbar()\n",
    "plt.axis('equal');\n",
    "plt.xlim([-10,10])\n",
    "plt.ylim([0,10])\n",
    "plt.title('Replicating Figure 7');"
   ]
  },
  {
   "cell_type": "code",
   "execution_count": null,
   "metadata": {},
   "outputs": [],
   "source": [
    "plt.figure(figsize=(12,5))\n",
    "plt.contour(xx, yy, np.log10(paper_data[10]['total_dose']), levels=[-13, -12, -11, -10])\n",
    "plt.colorbar()\n",
    "plt.axis('equal');\n",
    "plt.xlim([-10,10])\n",
    "plt.ylim([0,10])\n",
    "plt.title('Replicating Figure 8');"
   ]
  }
 ],
 "metadata": {
  "kernelspec": {
   "display_name": "Python 3",
   "language": "python",
   "name": "python3"
  },
  "language_info": {
   "codemirror_mode": {
    "name": "ipython",
    "version": 3
   },
   "file_extension": ".py",
   "mimetype": "text/x-python",
   "name": "python",
   "nbconvert_exporter": "python",
   "pygments_lexer": "ipython3",
   "version": "3.6.5"
  }
 },
 "nbformat": 4,
 "nbformat_minor": 2
}
