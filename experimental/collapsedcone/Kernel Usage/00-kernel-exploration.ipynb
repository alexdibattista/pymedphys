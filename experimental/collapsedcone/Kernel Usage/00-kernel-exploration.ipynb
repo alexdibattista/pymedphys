{
 "cells": [
  {
   "cell_type": "code",
   "execution_count": null,
   "metadata": {},
   "outputs": [],
   "source": [
    "from glob import glob\n",
    "\n",
    "\n",
    "import numpy as np\n",
    "import pandas as pd\n",
    "\n",
    "import matplotlib.pyplot as plt"
   ]
  },
  {
   "cell_type": "code",
   "execution_count": null,
   "metadata": {},
   "outputs": [],
   "source": [
    "glob('../../data/collapsedcone/kernels/original/*')"
   ]
  },
  {
   "cell_type": "code",
   "execution_count": null,
   "metadata": {},
   "outputs": [],
   "source": [
    "kernel_filepath = '../../data/collapsedcone/kernels/original/scaf2000'"
   ]
  },
  {
   "cell_type": "code",
   "execution_count": null,
   "metadata": {},
   "outputs": [],
   "source": [
    "radii_filepath = '../../data/collapsedcone/kernels/original/voxels.dat'\n",
    "loaded_radii_boundaries = pd.read_csv(radii_filepath, header=None)[0].values\n",
    "\n",
    "radii_boundaries = np.concatenate([[0], loaded_radii_boundaries])\n",
    "radii = radii_boundaries[0:-1] + (radii_boundaries[1::] - radii_boundaries[0:-1]) / 2\n",
    "\n",
    "radii"
   ]
  },
  {
   "cell_type": "code",
   "execution_count": null,
   "metadata": {},
   "outputs": [],
   "source": [
    "kernel_file = pd.read_csv(kernel_filepath, header=None, delimiter='    ')\n",
    "kernel_file"
   ]
  },
  {
   "cell_type": "code",
   "execution_count": null,
   "metadata": {},
   "outputs": [],
   "source": [
    "8064 // 7"
   ]
  },
  {
   "cell_type": "code",
   "execution_count": null,
   "metadata": {},
   "outputs": [],
   "source": [
    "def get_item_from_kernel_file(index):\n",
    "    return np.reshape(kernel_file.iloc[index::7, 0].values, (48, 24)).T"
   ]
  },
  {
   "cell_type": "code",
   "execution_count": null,
   "metadata": {},
   "outputs": [],
   "source": [
    "primary = get_item_from_kernel_file(0)\n",
    "scatter_1st = get_item_from_kernel_file(1)\n",
    "scatter_2nd = get_item_from_kernel_file(2)\n",
    "scatter_multiple = get_item_from_kernel_file(3)\n",
    "scatter_brem_ann = get_item_from_kernel_file(4)\n",
    "mean_radius = get_item_from_kernel_file(5)\n",
    "mean_angle = get_item_from_kernel_file(6)"
   ]
  },
  {
   "cell_type": "code",
   "execution_count": null,
   "metadata": {},
   "outputs": [],
   "source": [
    "total_dose = (\n",
    "    primary + scatter_1st + scatter_2nd +\n",
    "    scatter_multiple + scatter_brem_ann\n",
    ")"
   ]
  },
  {
   "cell_type": "code",
   "execution_count": null,
   "metadata": {},
   "outputs": [],
   "source": [
    "degrees = np.arange(180/48/2, 180, 180/48)\n",
    "degrees"
   ]
  },
  {
   "cell_type": "code",
   "execution_count": null,
   "metadata": {},
   "outputs": [],
   "source": [
    "len(radii)"
   ]
  },
  {
   "cell_type": "code",
   "execution_count": null,
   "metadata": {},
   "outputs": [],
   "source": []
  },
  {
   "cell_type": "code",
   "execution_count": null,
   "metadata": {},
   "outputs": [],
   "source": [
    "theta_mesh, radii_mesh = np.meshgrid(degrees/180 *np.pi, radii)\n",
    "\n",
    "xx = radii_mesh * np.cos(theta_mesh)\n",
    "yy = radii_mesh * np.sin(theta_mesh)"
   ]
  },
  {
   "cell_type": "code",
   "execution_count": null,
   "metadata": {},
   "outputs": [],
   "source": [
    "# plt.contourf(xx, yy, np.log(total_dose), 1000)"
   ]
  },
  {
   "cell_type": "code",
   "execution_count": null,
   "metadata": {},
   "outputs": [],
   "source": [
    "# plt.contourf(xx, yy, total_dose, 1000)\n",
    "# plt.axis('equal')"
   ]
  },
  {
   "cell_type": "code",
   "execution_count": null,
   "metadata": {},
   "outputs": [],
   "source": [
    "plt.scatter(xx, yy, c=total_dose)\n",
    "plt.axis('equal')"
   ]
  },
  {
   "cell_type": "code",
   "execution_count": null,
   "metadata": {},
   "outputs": [],
   "source": [
    "index_size = len(radii)\n",
    "\n",
    "\n",
    "for i, radius in enumerate(radii):\n",
    "    plt.figure()\n",
    "    plt.title(radius)\n",
    "    \n",
    "    plt.plot(degrees, primary[i, :], '.', label='primary')\n",
    "    plt.plot(degrees, scatter_1st[i, :], '.', label='scatter_1st')\n",
    "    plt.plot(degrees, scatter_2nd[i, :], '.', label='scatter_2nd')\n",
    "    plt.plot(degrees, scatter_multiple[i, :], '.', label='scatter_multiple')\n",
    "    plt.plot(degrees, scatter_brem_ann[i, :], '.', label='scatter_brem_ann')\n",
    "#     plt.plot(mean_angle[i::index_size], '.', label='mean_angle')\n",
    "    \n",
    "    plt.legend()\n",
    "    \n",
    "    plt.show()\n"
   ]
  },
  {
   "cell_type": "code",
   "execution_count": null,
   "metadata": {},
   "outputs": [],
   "source": []
  }
 ],
 "metadata": {
  "kernelspec": {
   "display_name": "Python 3",
   "language": "python",
   "name": "python3"
  },
  "language_info": {
   "codemirror_mode": {
    "name": "ipython",
    "version": 3
   },
   "file_extension": ".py",
   "mimetype": "text/x-python",
   "name": "python",
   "nbconvert_exporter": "python",
   "pygments_lexer": "ipython3",
   "version": "3.6.5"
  }
 },
 "nbformat": 4,
 "nbformat_minor": 2
}
