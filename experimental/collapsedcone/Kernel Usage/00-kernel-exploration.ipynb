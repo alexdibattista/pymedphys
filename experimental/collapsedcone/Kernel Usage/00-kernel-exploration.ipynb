{
 "cells": [
  {
   "cell_type": "code",
   "execution_count": null,
   "metadata": {},
   "outputs": [],
   "source": [
    "from glob import glob\n",
    "\n",
    "\n",
    "import numpy as np\n",
    "import pandas as pd\n",
    "\n",
    "import matplotlib.pyplot as plt"
   ]
  },
  {
   "cell_type": "code",
   "execution_count": null,
   "metadata": {},
   "outputs": [],
   "source": [
    "glob('../../data/collapsedcone/kernels/original/*')"
   ]
  },
  {
   "cell_type": "code",
   "execution_count": null,
   "metadata": {},
   "outputs": [],
   "source": [
    "kernel_filepath = '../../data/collapsedcone/kernels/original/scaf2000'"
   ]
  },
  {
   "cell_type": "code",
   "execution_count": null,
   "metadata": {},
   "outputs": [],
   "source": [
    "radii_filepath = '../../data/collapsedcone/kernels/original/voxels.dat'\n",
    "loaded_radii_boundaries = pd.read_csv(radii_filepath, header=None)[0].values\n",
    "\n",
    "radii_boundaries = np.concatenate([[0], loaded_radii_boundaries])\n",
    "radii = radii_boundaries[0:-1] + (radii_boundaries[1::] - radii_boundaries[0:-1]) / 2\n",
    "\n",
    "radii"
   ]
  },
  {
   "cell_type": "code",
   "execution_count": null,
   "metadata": {},
   "outputs": [],
   "source": [
    "kernel_file = pd.read_csv(kernel_filepath, header=None, delimiter='    ')\n",
    "kernel_file"
   ]
  },
  {
   "cell_type": "code",
   "execution_count": null,
   "metadata": {},
   "outputs": [],
   "source": [
    "8064 // 7"
   ]
  },
  {
   "cell_type": "code",
   "execution_count": null,
   "metadata": {},
   "outputs": [],
   "source": [
    "primary = kernel_file.iloc[0::7, 0].values\n",
    "scatter_1st = kernel_file.iloc[1::7, 0].values\n",
    "scatter_2nd = kernel_file.iloc[2::7, 0].values\n",
    "scatter_multiple = kernel_file.iloc[3::7, 0].values\n",
    "scatter_brem_ann = kernel_file.iloc[4::7, 0].values\n",
    "mean_radius = kernel_file.iloc[5::7, 0].values\n",
    "mean_angle = kernel_file.iloc[6::7, 0].values"
   ]
  },
  {
   "cell_type": "code",
   "execution_count": null,
   "metadata": {},
   "outputs": [],
   "source": [
    "degrees = np.arange(180/48/2, 180, 180/48)\n",
    "degrees"
   ]
  },
  {
   "cell_type": "code",
   "execution_count": null,
   "metadata": {},
   "outputs": [],
   "source": [
    "len(radii)"
   ]
  },
  {
   "cell_type": "code",
   "execution_count": null,
   "metadata": {},
   "outputs": [],
   "source": [
    "mean_angle[2::index_size] - degrees"
   ]
  },
  {
   "cell_type": "code",
   "execution_count": null,
   "metadata": {},
   "outputs": [],
   "source": [
    "index_size = len(radii)\n",
    "\n",
    "\n",
    "for i, radius in enumerate(radii):\n",
    "    plt.figure()\n",
    "    plt.title(radius)\n",
    "    \n",
    "    plt.plot(degrees, primary[i::index_size], '.', label='primary')\n",
    "    plt.plot(degrees, scatter_1st[i::index_size], '.', label='scatter_1st')\n",
    "    plt.plot(degrees, scatter_2nd[i::index_size], '.', label='scatter_2nd')\n",
    "    plt.plot(degrees, scatter_multiple[i::index_size], '.', label='scatter_multiple')\n",
    "    plt.plot(degrees, scatter_brem_ann[i::index_size], '.', label='scatter_brem_ann')\n",
    "#     plt.plot(mean_angle[i::index_size], '.', label='mean_angle')\n",
    "    \n",
    "    plt.legend()\n",
    "    \n",
    "    plt.show()\n"
   ]
  },
  {
   "cell_type": "code",
   "execution_count": null,
   "metadata": {},
   "outputs": [],
   "source": []
  }
 ],
 "metadata": {
  "kernelspec": {
   "display_name": "Python 3",
   "language": "python",
   "name": "python3"
  },
  "language_info": {
   "codemirror_mode": {
    "name": "ipython",
    "version": 3
   },
   "file_extension": ".py",
   "mimetype": "text/x-python",
   "name": "python",
   "nbconvert_exporter": "python",
   "pygments_lexer": "ipython3",
   "version": "3.6.5"
  }
 },
 "nbformat": 4,
 "nbformat_minor": 2
}
