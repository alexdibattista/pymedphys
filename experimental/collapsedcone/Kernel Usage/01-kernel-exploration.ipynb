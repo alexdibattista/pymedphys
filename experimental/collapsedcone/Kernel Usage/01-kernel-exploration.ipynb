{
 "cells": [
  {
   "cell_type": "code",
   "execution_count": null,
   "metadata": {},
   "outputs": [],
   "source": [
    "from glob import glob\n",
    "\n",
    "import numpy as np\n",
    "import pandas as pd\n",
    "\n",
    "import matplotlib.pyplot as plt"
   ]
  },
  {
   "cell_type": "code",
   "execution_count": null,
   "metadata": {},
   "outputs": [],
   "source": [
    "radii_filepath = '../../../data/collapsedcone/kernels/original/voxels.dat'\n",
    "loaded_radii_boundaries = pd.read_csv(radii_filepath, header=None)[0].values\n",
    "\n",
    "radii_boundaries = np.concatenate([[0], loaded_radii_boundaries])\n",
    "radii = radii_boundaries[0:-1] + (radii_boundaries[1::] - radii_boundaries[0:-1]) / 2"
   ]
  },
  {
   "cell_type": "code",
   "execution_count": null,
   "metadata": {},
   "outputs": [],
   "source": [
    "degrees = np.arange(180/48/2, 180, 180/48)"
   ]
  },
  {
   "cell_type": "code",
   "execution_count": null,
   "metadata": {},
   "outputs": [],
   "source": [
    "theta_mesh, radii_mesh = np.meshgrid(degrees/180 *np.pi, radii)\n",
    "\n",
    "xx = radii_mesh * np.cos(theta_mesh)\n",
    "yy = radii_mesh * np.sin(theta_mesh)"
   ]
  },
  {
   "cell_type": "code",
   "execution_count": null,
   "metadata": {},
   "outputs": [],
   "source": [
    "glob('../../../data/collapsedcone/kernels/original/scaf*')"
   ]
  },
  {
   "cell_type": "code",
   "execution_count": null,
   "metadata": {},
   "outputs": [],
   "source": [
    "kernel_filepath = '../../../data/collapsedcone/kernels/original/scaf2000'\n",
    "kernel_file = pd.read_csv(kernel_filepath, header=None, delimiter='\\s+')"
   ]
  },
  {
   "cell_type": "code",
   "execution_count": null,
   "metadata": {},
   "outputs": [],
   "source": [
    "index_map = {\n",
    "    0: 'primary',\n",
    "    1: 'first_scatter',\n",
    "    2: 'second_scatter',\n",
    "    3: 'multiple_scatter',\n",
    "    4: 'bremsstrahlung_and_annihilation',\n",
    "    5: 'mean_radius',\n",
    "    6: 'mean_angle'\n",
    "}\n",
    "\n",
    "def get_item_from_kernel_file(index):\n",
    "    column_1 = kernel_file.iloc[index::7, 0].values\n",
    "    \n",
    "    return np.reshape(column_1, (len(degrees), len(radii))).T\n",
    "\n",
    "kernel_data = {\n",
    "    index_map[index]: get_item_from_kernel_file(index)\n",
    "    for index in index_map\n",
    "}\n",
    "\n",
    "total_dose = (\n",
    "    kernel_data['primary'] +\n",
    "    kernel_data['first_scatter'] + \n",
    "    kernel_data['second_scatter'] +\n",
    "    kernel_data['multiple_scatter'] +\n",
    "    kernel_data['bremsstrahlung_and_annihilation']\n",
    ")"
   ]
  },
  {
   "cell_type": "code",
   "execution_count": null,
   "metadata": {},
   "outputs": [],
   "source": [
    "plt.scatter(xx, yy, c=total_dose, s=5)\n",
    "plt.colorbar()\n",
    "plt.axis('equal');\n",
    "plt.xlim([-2,2])\n",
    "plt.ylim([0,2])"
   ]
  },
  {
   "cell_type": "code",
   "execution_count": null,
   "metadata": {},
   "outputs": [],
   "source": [
    "to_plot = [\n",
    "    'primary', 'first_scatter',\n",
    "    'second_scatter', 'multiple_scatter',\n",
    "    'bremsstrahlung_and_annihilation']"
   ]
  },
  {
   "cell_type": "code",
   "execution_count": null,
   "metadata": {},
   "outputs": [],
   "source": [
    "for i, degree in enumerate(degrees):\n",
    "    plt.figure()\n",
    "    plt.title(degree)\n",
    "    \n",
    "    for key in to_plot:\n",
    "        plt.plot(radii, kernel_data[key][:, i], 'o-', label=key)\n",
    "    \n",
    "    plt.legend()\n",
    "    \n",
    "    plt.show()"
   ]
  },
  {
   "cell_type": "code",
   "execution_count": null,
   "metadata": {},
   "outputs": [],
   "source": [
    "for i, radius in enumerate(radii):\n",
    "    plt.figure()\n",
    "    plt.title(radius)\n",
    "    \n",
    "    for key in to_plot:\n",
    "        plt.plot(degrees, kernel_data[key][i, :], 'o-', label=key)\n",
    "    \n",
    "    plt.legend()\n",
    "    \n",
    "    plt.show()"
   ]
  }
 ],
 "metadata": {
  "kernelspec": {
   "display_name": "Python 3",
   "language": "python",
   "name": "python3"
  },
  "language_info": {
   "codemirror_mode": {
    "name": "ipython",
    "version": 3
   },
   "file_extension": ".py",
   "mimetype": "text/x-python",
   "name": "python",
   "nbconvert_exporter": "python",
   "pygments_lexer": "ipython3",
   "version": "3.6.5"
  }
 },
 "nbformat": 4,
 "nbformat_minor": 2
}
