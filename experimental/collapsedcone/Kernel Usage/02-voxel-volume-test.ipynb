{
 "cells": [
  {
   "cell_type": "code",
   "execution_count": null,
   "metadata": {},
   "outputs": [],
   "source": [
    "import numpy as np\n",
    "import pandas as pd"
   ]
  },
  {
   "cell_type": "code",
   "execution_count": null,
   "metadata": {},
   "outputs": [],
   "source": [
    "radii_filepath = '../../../data/collapsedcone/kernels/original/voxels.dat'\n",
    "loaded_radii_boundaries = pd.read_csv(radii_filepath, header=None)[0].values\n",
    "radii = np.concatenate([[0], loaded_radii_boundaries]) # cm\n",
    "\n",
    "radii"
   ]
  },
  {
   "cell_type": "code",
   "execution_count": null,
   "metadata": {},
   "outputs": [],
   "source": [
    "dtheta = np.pi / 48\n",
    "\n",
    "radians = np.arange(0, np.pi + dtheta, dtheta)\n",
    "degrees = radians * 180 / np.pi\n",
    "degrees"
   ]
  },
  {
   "cell_type": "code",
   "execution_count": null,
   "metadata": {},
   "outputs": [],
   "source": [
    "def voxel_volume(r1, r2, theta1, theta2):\n",
    "    volume = 2/3 * np.pi * (r2**3 - r1**3) * (np.cos(theta1) - np.cos(theta2))\n",
    "    return volume"
   ]
  },
  {
   "cell_type": "code",
   "execution_count": null,
   "metadata": {},
   "outputs": [],
   "source": [
    "len(radii)"
   ]
  },
  {
   "cell_type": "code",
   "execution_count": null,
   "metadata": {},
   "outputs": [],
   "source": [
    "len(radians)"
   ]
  },
  {
   "cell_type": "code",
   "execution_count": null,
   "metadata": {},
   "outputs": [],
   "source": [
    "i = 20\n",
    "j = 30\n",
    "\n",
    "r1 = radii[i]\n",
    "r2 = radii[i+1]\n",
    "theta1 = radians[j]\n",
    "theta2 = radians[j+1]\n",
    "\n",
    "mass_of_water = voxel_volume(r1, r2, theta1, theta2) / 1000  # kg\n",
    "mass_of_water"
   ]
  },
  {
   "cell_type": "code",
   "execution_count": null,
   "metadata": {},
   "outputs": [],
   "source": [
    "voxel_volume(r1, r2, theta1, theta2)"
   ]
  },
  {
   "cell_type": "code",
   "execution_count": null,
   "metadata": {},
   "outputs": [],
   "source": [
    "volume_of_cube = 120**3\n",
    "volume_of_cube"
   ]
  },
  {
   "cell_type": "code",
   "execution_count": null,
   "metadata": {},
   "outputs": [],
   "source": [
    "voxel_volume(r1, r2, theta1, theta2) / volume_of_cube"
   ]
  },
  {
   "cell_type": "code",
   "execution_count": null,
   "metadata": {},
   "outputs": [],
   "source": [
    "random_coords = np.random.uniform(low=-60, high=60, size=(100000000,3))\n",
    "radius = np.sqrt(random_coords[:,0]**2 + random_coords[:,1]**2 + random_coords[:,2]**2)\n",
    "in_shell = (radius < r2) & (radius >= r1)\n",
    "\n",
    "normalised_vector = random_coords / radius[:, None]\n",
    "theta_to_vertical = np.arccos(normalised_vector[:,1])\n",
    "in_cone = (theta_to_vertical < theta2) & (theta_to_vertical >= theta1)\n",
    "\n",
    "in_cone_and_in_shell = in_shell & in_cone\n",
    "np.sum(in_cone_and_in_shell) / len(in_cone_and_in_shell)"
   ]
  }
 ],
 "metadata": {
  "kernelspec": {
   "display_name": "Python 3",
   "language": "python",
   "name": "python3"
  },
  "language_info": {
   "codemirror_mode": {
    "name": "ipython",
    "version": 3
   },
   "file_extension": ".py",
   "mimetype": "text/x-python",
   "name": "python",
   "nbconvert_exporter": "python",
   "pygments_lexer": "ipython3",
   "version": "3.6.5"
  }
 },
 "nbformat": 4,
 "nbformat_minor": 2
}
